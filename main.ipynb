{
 "cells": [
  {
   "cell_type": "markdown",
   "metadata": {},
   "source": [
    "# Import libraries"
   ]
  },
  {
   "cell_type": "code",
   "execution_count": 1,
   "metadata": {
    "colab": {
     "base_uri": "https://localhost:8080/"
    },
    "id": "VH7Si-nMMSd_",
    "outputId": "35b3705e-a25f-4a2e-cf48-e137c578f35c"
   },
   "outputs": [
    {
     "name": "stderr",
     "output_type": "stream",
     "text": [
      "[nltk_data] Downloading package punkt to /home/jakeli/nltk_data...\n",
      "[nltk_data]   Package punkt is already up-to-date!\n",
      "[nltk_data] Downloading package stopwords to /home/jakeli/nltk_data...\n",
      "[nltk_data]   Package stopwords is already up-to-date!\n"
     ]
    }
   ],
   "source": [
    "import kaggle\n",
    "import numpy as np\n",
    "import pandas as pd\n",
    "import re\n",
    "import nltk\n",
    "nltk.download(['punkt', 'stopwords'])\n",
    "from nltk.tokenize import word_tokenize\n",
    "from nltk.corpus import stopwords\n",
    "from nltk.stem.snowball import SnowballStemmer\n",
    "from sklearn.feature_extraction.text import TfidfVectorizer\n",
    "from sklearn.metrics.pairwise import cosine_similarity\n",
    "\n",
    "pd.set_option('display.max_columns', None)"
   ]
  },
  {
   "cell_type": "markdown",
   "metadata": {},
   "source": [
    "# Download data from Kaggle"
   ]
  },
  {
   "cell_type": "markdown",
   "metadata": {},
   "source": [
    "## Follow steps [here](https://codesolid.com/kaggle-datasets/#htoc-setting-up-the-kaggle-api) for setting up the Kaggle API."
   ]
  },
  {
   "cell_type": "code",
   "execution_count": 2,
   "metadata": {},
   "outputs": [],
   "source": [
    "kaggle.api.dataset_download_files('rounakbanik/the-movies-dataset', path='data/', unzip=True)"
   ]
  },
  {
   "cell_type": "markdown",
   "metadata": {
    "id": "o5MgcnZaq1NM"
   },
   "source": [
    "# Read and Inspect Data"
   ]
  },
  {
   "cell_type": "code",
   "execution_count": 18,
   "metadata": {
    "id": "UtLPSB-IMSgX"
   },
   "outputs": [],
   "source": [
    "# import data\n",
    "movies = pd.read_csv('data/movies_metadata.csv', low_memory=False)\n",
    "credits = pd.read_csv('data/credits.csv', low_memory=False)\n",
    "keywords = pd.read_csv('data/keywords.csv', low_memory=False)"
   ]
  },
  {
   "cell_type": "code",
   "execution_count": 19,
   "metadata": {
    "colab": {
     "base_uri": "https://localhost:8080/",
     "height": 721
    },
    "id": "8pAfLvKO6-jk",
    "outputId": "6e79764e-8106-4afe-8ecb-845427e3bd76"
   },
   "outputs": [
    {
     "data": {
      "text/html": [
       "<div>\n",
       "<style scoped>\n",
       "    .dataframe tbody tr th:only-of-type {\n",
       "        vertical-align: middle;\n",
       "    }\n",
       "\n",
       "    .dataframe tbody tr th {\n",
       "        vertical-align: top;\n",
       "    }\n",
       "\n",
       "    .dataframe thead th {\n",
       "        text-align: right;\n",
       "    }\n",
       "</style>\n",
       "<table border=\"1\" class=\"dataframe\">\n",
       "  <thead>\n",
       "    <tr style=\"text-align: right;\">\n",
       "      <th></th>\n",
       "      <th>adult</th>\n",
       "      <th>belongs_to_collection</th>\n",
       "      <th>budget</th>\n",
       "      <th>genres</th>\n",
       "      <th>homepage</th>\n",
       "      <th>id</th>\n",
       "      <th>imdb_id</th>\n",
       "      <th>original_language</th>\n",
       "      <th>original_title</th>\n",
       "      <th>overview</th>\n",
       "      <th>popularity</th>\n",
       "      <th>poster_path</th>\n",
       "      <th>production_companies</th>\n",
       "      <th>production_countries</th>\n",
       "      <th>release_date</th>\n",
       "      <th>revenue</th>\n",
       "      <th>runtime</th>\n",
       "      <th>spoken_languages</th>\n",
       "      <th>status</th>\n",
       "      <th>tagline</th>\n",
       "      <th>title</th>\n",
       "      <th>video</th>\n",
       "      <th>vote_average</th>\n",
       "      <th>vote_count</th>\n",
       "    </tr>\n",
       "  </thead>\n",
       "  <tbody>\n",
       "    <tr>\n",
       "      <th>0</th>\n",
       "      <td>False</td>\n",
       "      <td>{'id': 10194, 'name': 'Toy Story Collection', ...</td>\n",
       "      <td>30000000</td>\n",
       "      <td>[{'id': 16, 'name': 'Animation'}, {'id': 35, '...</td>\n",
       "      <td>http://toystory.disney.com/toy-story</td>\n",
       "      <td>862</td>\n",
       "      <td>tt0114709</td>\n",
       "      <td>en</td>\n",
       "      <td>Toy Story</td>\n",
       "      <td>Led by Woody, Andy's toys live happily in his ...</td>\n",
       "      <td>21.946943</td>\n",
       "      <td>/rhIRbceoE9lR4veEXuwCC2wARtG.jpg</td>\n",
       "      <td>[{'name': 'Pixar Animation Studios', 'id': 3}]</td>\n",
       "      <td>[{'iso_3166_1': 'US', 'name': 'United States o...</td>\n",
       "      <td>1995-10-30</td>\n",
       "      <td>373554033.0</td>\n",
       "      <td>81.0</td>\n",
       "      <td>[{'iso_639_1': 'en', 'name': 'English'}]</td>\n",
       "      <td>Released</td>\n",
       "      <td>NaN</td>\n",
       "      <td>Toy Story</td>\n",
       "      <td>False</td>\n",
       "      <td>7.7</td>\n",
       "      <td>5415.0</td>\n",
       "    </tr>\n",
       "    <tr>\n",
       "      <th>1</th>\n",
       "      <td>False</td>\n",
       "      <td>NaN</td>\n",
       "      <td>65000000</td>\n",
       "      <td>[{'id': 12, 'name': 'Adventure'}, {'id': 14, '...</td>\n",
       "      <td>NaN</td>\n",
       "      <td>8844</td>\n",
       "      <td>tt0113497</td>\n",
       "      <td>en</td>\n",
       "      <td>Jumanji</td>\n",
       "      <td>When siblings Judy and Peter discover an encha...</td>\n",
       "      <td>17.015539</td>\n",
       "      <td>/vzmL6fP7aPKNKPRTFnZmiUfciyV.jpg</td>\n",
       "      <td>[{'name': 'TriStar Pictures', 'id': 559}, {'na...</td>\n",
       "      <td>[{'iso_3166_1': 'US', 'name': 'United States o...</td>\n",
       "      <td>1995-12-15</td>\n",
       "      <td>262797249.0</td>\n",
       "      <td>104.0</td>\n",
       "      <td>[{'iso_639_1': 'en', 'name': 'English'}, {'iso...</td>\n",
       "      <td>Released</td>\n",
       "      <td>Roll the dice and unleash the excitement!</td>\n",
       "      <td>Jumanji</td>\n",
       "      <td>False</td>\n",
       "      <td>6.9</td>\n",
       "      <td>2413.0</td>\n",
       "    </tr>\n",
       "    <tr>\n",
       "      <th>2</th>\n",
       "      <td>False</td>\n",
       "      <td>{'id': 119050, 'name': 'Grumpy Old Men Collect...</td>\n",
       "      <td>0</td>\n",
       "      <td>[{'id': 10749, 'name': 'Romance'}, {'id': 35, ...</td>\n",
       "      <td>NaN</td>\n",
       "      <td>15602</td>\n",
       "      <td>tt0113228</td>\n",
       "      <td>en</td>\n",
       "      <td>Grumpier Old Men</td>\n",
       "      <td>A family wedding reignites the ancient feud be...</td>\n",
       "      <td>11.7129</td>\n",
       "      <td>/6ksm1sjKMFLbO7UY2i6G1ju9SML.jpg</td>\n",
       "      <td>[{'name': 'Warner Bros.', 'id': 6194}, {'name'...</td>\n",
       "      <td>[{'iso_3166_1': 'US', 'name': 'United States o...</td>\n",
       "      <td>1995-12-22</td>\n",
       "      <td>0.0</td>\n",
       "      <td>101.0</td>\n",
       "      <td>[{'iso_639_1': 'en', 'name': 'English'}]</td>\n",
       "      <td>Released</td>\n",
       "      <td>Still Yelling. Still Fighting. Still Ready for...</td>\n",
       "      <td>Grumpier Old Men</td>\n",
       "      <td>False</td>\n",
       "      <td>6.5</td>\n",
       "      <td>92.0</td>\n",
       "    </tr>\n",
       "    <tr>\n",
       "      <th>3</th>\n",
       "      <td>False</td>\n",
       "      <td>NaN</td>\n",
       "      <td>16000000</td>\n",
       "      <td>[{'id': 35, 'name': 'Comedy'}, {'id': 18, 'nam...</td>\n",
       "      <td>NaN</td>\n",
       "      <td>31357</td>\n",
       "      <td>tt0114885</td>\n",
       "      <td>en</td>\n",
       "      <td>Waiting to Exhale</td>\n",
       "      <td>Cheated on, mistreated and stepped on, the wom...</td>\n",
       "      <td>3.859495</td>\n",
       "      <td>/16XOMpEaLWkrcPqSQqhTmeJuqQl.jpg</td>\n",
       "      <td>[{'name': 'Twentieth Century Fox Film Corporat...</td>\n",
       "      <td>[{'iso_3166_1': 'US', 'name': 'United States o...</td>\n",
       "      <td>1995-12-22</td>\n",
       "      <td>81452156.0</td>\n",
       "      <td>127.0</td>\n",
       "      <td>[{'iso_639_1': 'en', 'name': 'English'}]</td>\n",
       "      <td>Released</td>\n",
       "      <td>Friends are the people who let you be yourself...</td>\n",
       "      <td>Waiting to Exhale</td>\n",
       "      <td>False</td>\n",
       "      <td>6.1</td>\n",
       "      <td>34.0</td>\n",
       "    </tr>\n",
       "    <tr>\n",
       "      <th>4</th>\n",
       "      <td>False</td>\n",
       "      <td>{'id': 96871, 'name': 'Father of the Bride Col...</td>\n",
       "      <td>0</td>\n",
       "      <td>[{'id': 35, 'name': 'Comedy'}]</td>\n",
       "      <td>NaN</td>\n",
       "      <td>11862</td>\n",
       "      <td>tt0113041</td>\n",
       "      <td>en</td>\n",
       "      <td>Father of the Bride Part II</td>\n",
       "      <td>Just when George Banks has recovered from his ...</td>\n",
       "      <td>8.387519</td>\n",
       "      <td>/e64sOI48hQXyru7naBFyssKFxVd.jpg</td>\n",
       "      <td>[{'name': 'Sandollar Productions', 'id': 5842}...</td>\n",
       "      <td>[{'iso_3166_1': 'US', 'name': 'United States o...</td>\n",
       "      <td>1995-02-10</td>\n",
       "      <td>76578911.0</td>\n",
       "      <td>106.0</td>\n",
       "      <td>[{'iso_639_1': 'en', 'name': 'English'}]</td>\n",
       "      <td>Released</td>\n",
       "      <td>Just When His World Is Back To Normal... He's ...</td>\n",
       "      <td>Father of the Bride Part II</td>\n",
       "      <td>False</td>\n",
       "      <td>5.7</td>\n",
       "      <td>173.0</td>\n",
       "    </tr>\n",
       "  </tbody>\n",
       "</table>\n",
       "</div>"
      ],
      "text/plain": [
       "   adult                              belongs_to_collection    budget   \n",
       "0  False  {'id': 10194, 'name': 'Toy Story Collection', ...  30000000  \\\n",
       "1  False                                                NaN  65000000   \n",
       "2  False  {'id': 119050, 'name': 'Grumpy Old Men Collect...         0   \n",
       "3  False                                                NaN  16000000   \n",
       "4  False  {'id': 96871, 'name': 'Father of the Bride Col...         0   \n",
       "\n",
       "                                              genres   \n",
       "0  [{'id': 16, 'name': 'Animation'}, {'id': 35, '...  \\\n",
       "1  [{'id': 12, 'name': 'Adventure'}, {'id': 14, '...   \n",
       "2  [{'id': 10749, 'name': 'Romance'}, {'id': 35, ...   \n",
       "3  [{'id': 35, 'name': 'Comedy'}, {'id': 18, 'nam...   \n",
       "4                     [{'id': 35, 'name': 'Comedy'}]   \n",
       "\n",
       "                               homepage     id    imdb_id original_language   \n",
       "0  http://toystory.disney.com/toy-story    862  tt0114709                en  \\\n",
       "1                                   NaN   8844  tt0113497                en   \n",
       "2                                   NaN  15602  tt0113228                en   \n",
       "3                                   NaN  31357  tt0114885                en   \n",
       "4                                   NaN  11862  tt0113041                en   \n",
       "\n",
       "                original_title   \n",
       "0                    Toy Story  \\\n",
       "1                      Jumanji   \n",
       "2             Grumpier Old Men   \n",
       "3            Waiting to Exhale   \n",
       "4  Father of the Bride Part II   \n",
       "\n",
       "                                            overview popularity   \n",
       "0  Led by Woody, Andy's toys live happily in his ...  21.946943  \\\n",
       "1  When siblings Judy and Peter discover an encha...  17.015539   \n",
       "2  A family wedding reignites the ancient feud be...    11.7129   \n",
       "3  Cheated on, mistreated and stepped on, the wom...   3.859495   \n",
       "4  Just when George Banks has recovered from his ...   8.387519   \n",
       "\n",
       "                        poster_path   \n",
       "0  /rhIRbceoE9lR4veEXuwCC2wARtG.jpg  \\\n",
       "1  /vzmL6fP7aPKNKPRTFnZmiUfciyV.jpg   \n",
       "2  /6ksm1sjKMFLbO7UY2i6G1ju9SML.jpg   \n",
       "3  /16XOMpEaLWkrcPqSQqhTmeJuqQl.jpg   \n",
       "4  /e64sOI48hQXyru7naBFyssKFxVd.jpg   \n",
       "\n",
       "                                production_companies   \n",
       "0     [{'name': 'Pixar Animation Studios', 'id': 3}]  \\\n",
       "1  [{'name': 'TriStar Pictures', 'id': 559}, {'na...   \n",
       "2  [{'name': 'Warner Bros.', 'id': 6194}, {'name'...   \n",
       "3  [{'name': 'Twentieth Century Fox Film Corporat...   \n",
       "4  [{'name': 'Sandollar Productions', 'id': 5842}...   \n",
       "\n",
       "                                production_countries release_date   \n",
       "0  [{'iso_3166_1': 'US', 'name': 'United States o...   1995-10-30  \\\n",
       "1  [{'iso_3166_1': 'US', 'name': 'United States o...   1995-12-15   \n",
       "2  [{'iso_3166_1': 'US', 'name': 'United States o...   1995-12-22   \n",
       "3  [{'iso_3166_1': 'US', 'name': 'United States o...   1995-12-22   \n",
       "4  [{'iso_3166_1': 'US', 'name': 'United States o...   1995-02-10   \n",
       "\n",
       "       revenue  runtime                                   spoken_languages   \n",
       "0  373554033.0     81.0           [{'iso_639_1': 'en', 'name': 'English'}]  \\\n",
       "1  262797249.0    104.0  [{'iso_639_1': 'en', 'name': 'English'}, {'iso...   \n",
       "2          0.0    101.0           [{'iso_639_1': 'en', 'name': 'English'}]   \n",
       "3   81452156.0    127.0           [{'iso_639_1': 'en', 'name': 'English'}]   \n",
       "4   76578911.0    106.0           [{'iso_639_1': 'en', 'name': 'English'}]   \n",
       "\n",
       "     status                                            tagline   \n",
       "0  Released                                                NaN  \\\n",
       "1  Released          Roll the dice and unleash the excitement!   \n",
       "2  Released  Still Yelling. Still Fighting. Still Ready for...   \n",
       "3  Released  Friends are the people who let you be yourself...   \n",
       "4  Released  Just When His World Is Back To Normal... He's ...   \n",
       "\n",
       "                         title  video  vote_average  vote_count  \n",
       "0                    Toy Story  False           7.7      5415.0  \n",
       "1                      Jumanji  False           6.9      2413.0  \n",
       "2             Grumpier Old Men  False           6.5        92.0  \n",
       "3            Waiting to Exhale  False           6.1        34.0  \n",
       "4  Father of the Bride Part II  False           5.7       173.0  "
      ]
     },
     "execution_count": 19,
     "metadata": {},
     "output_type": "execute_result"
    }
   ],
   "source": [
    "movies.head()"
   ]
  },
  {
   "cell_type": "code",
   "execution_count": 20,
   "metadata": {
    "colab": {
     "base_uri": "https://localhost:8080/",
     "height": 206
    },
    "id": "KwiJ8VpDTPJt",
    "outputId": "d2712907-f817-4a95-a948-3b3f6c7caae4"
   },
   "outputs": [
    {
     "data": {
      "text/html": [
       "<div>\n",
       "<style scoped>\n",
       "    .dataframe tbody tr th:only-of-type {\n",
       "        vertical-align: middle;\n",
       "    }\n",
       "\n",
       "    .dataframe tbody tr th {\n",
       "        vertical-align: top;\n",
       "    }\n",
       "\n",
       "    .dataframe thead th {\n",
       "        text-align: right;\n",
       "    }\n",
       "</style>\n",
       "<table border=\"1\" class=\"dataframe\">\n",
       "  <thead>\n",
       "    <tr style=\"text-align: right;\">\n",
       "      <th></th>\n",
       "      <th>cast</th>\n",
       "      <th>crew</th>\n",
       "      <th>id</th>\n",
       "    </tr>\n",
       "  </thead>\n",
       "  <tbody>\n",
       "    <tr>\n",
       "      <th>0</th>\n",
       "      <td>[{'cast_id': 14, 'character': 'Woody (voice)',...</td>\n",
       "      <td>[{'credit_id': '52fe4284c3a36847f8024f49', 'de...</td>\n",
       "      <td>862</td>\n",
       "    </tr>\n",
       "    <tr>\n",
       "      <th>1</th>\n",
       "      <td>[{'cast_id': 1, 'character': 'Alan Parrish', '...</td>\n",
       "      <td>[{'credit_id': '52fe44bfc3a36847f80a7cd1', 'de...</td>\n",
       "      <td>8844</td>\n",
       "    </tr>\n",
       "    <tr>\n",
       "      <th>2</th>\n",
       "      <td>[{'cast_id': 2, 'character': 'Max Goldman', 'c...</td>\n",
       "      <td>[{'credit_id': '52fe466a9251416c75077a89', 'de...</td>\n",
       "      <td>15602</td>\n",
       "    </tr>\n",
       "    <tr>\n",
       "      <th>3</th>\n",
       "      <td>[{'cast_id': 1, 'character': \"Savannah 'Vannah...</td>\n",
       "      <td>[{'credit_id': '52fe44779251416c91011acb', 'de...</td>\n",
       "      <td>31357</td>\n",
       "    </tr>\n",
       "    <tr>\n",
       "      <th>4</th>\n",
       "      <td>[{'cast_id': 1, 'character': 'George Banks', '...</td>\n",
       "      <td>[{'credit_id': '52fe44959251416c75039ed7', 'de...</td>\n",
       "      <td>11862</td>\n",
       "    </tr>\n",
       "  </tbody>\n",
       "</table>\n",
       "</div>"
      ],
      "text/plain": [
       "                                                cast   \n",
       "0  [{'cast_id': 14, 'character': 'Woody (voice)',...  \\\n",
       "1  [{'cast_id': 1, 'character': 'Alan Parrish', '...   \n",
       "2  [{'cast_id': 2, 'character': 'Max Goldman', 'c...   \n",
       "3  [{'cast_id': 1, 'character': \"Savannah 'Vannah...   \n",
       "4  [{'cast_id': 1, 'character': 'George Banks', '...   \n",
       "\n",
       "                                                crew     id  \n",
       "0  [{'credit_id': '52fe4284c3a36847f8024f49', 'de...    862  \n",
       "1  [{'credit_id': '52fe44bfc3a36847f80a7cd1', 'de...   8844  \n",
       "2  [{'credit_id': '52fe466a9251416c75077a89', 'de...  15602  \n",
       "3  [{'credit_id': '52fe44779251416c91011acb', 'de...  31357  \n",
       "4  [{'credit_id': '52fe44959251416c75039ed7', 'de...  11862  "
      ]
     },
     "execution_count": 20,
     "metadata": {},
     "output_type": "execute_result"
    }
   ],
   "source": [
    "credits.head()"
   ]
  },
  {
   "cell_type": "code",
   "execution_count": 21,
   "metadata": {
    "colab": {
     "base_uri": "https://localhost:8080/",
     "height": 206
    },
    "id": "Z9JdnwvIRYtE",
    "outputId": "3192a832-c0e2-466f-b14c-917d5f68897e"
   },
   "outputs": [
    {
     "data": {
      "text/html": [
       "<div>\n",
       "<style scoped>\n",
       "    .dataframe tbody tr th:only-of-type {\n",
       "        vertical-align: middle;\n",
       "    }\n",
       "\n",
       "    .dataframe tbody tr th {\n",
       "        vertical-align: top;\n",
       "    }\n",
       "\n",
       "    .dataframe thead th {\n",
       "        text-align: right;\n",
       "    }\n",
       "</style>\n",
       "<table border=\"1\" class=\"dataframe\">\n",
       "  <thead>\n",
       "    <tr style=\"text-align: right;\">\n",
       "      <th></th>\n",
       "      <th>id</th>\n",
       "      <th>keywords</th>\n",
       "    </tr>\n",
       "  </thead>\n",
       "  <tbody>\n",
       "    <tr>\n",
       "      <th>0</th>\n",
       "      <td>862</td>\n",
       "      <td>[{'id': 931, 'name': 'jealousy'}, {'id': 4290,...</td>\n",
       "    </tr>\n",
       "    <tr>\n",
       "      <th>1</th>\n",
       "      <td>8844</td>\n",
       "      <td>[{'id': 10090, 'name': 'board game'}, {'id': 1...</td>\n",
       "    </tr>\n",
       "    <tr>\n",
       "      <th>2</th>\n",
       "      <td>15602</td>\n",
       "      <td>[{'id': 1495, 'name': 'fishing'}, {'id': 12392...</td>\n",
       "    </tr>\n",
       "    <tr>\n",
       "      <th>3</th>\n",
       "      <td>31357</td>\n",
       "      <td>[{'id': 818, 'name': 'based on novel'}, {'id':...</td>\n",
       "    </tr>\n",
       "    <tr>\n",
       "      <th>4</th>\n",
       "      <td>11862</td>\n",
       "      <td>[{'id': 1009, 'name': 'baby'}, {'id': 1599, 'n...</td>\n",
       "    </tr>\n",
       "  </tbody>\n",
       "</table>\n",
       "</div>"
      ],
      "text/plain": [
       "      id                                           keywords\n",
       "0    862  [{'id': 931, 'name': 'jealousy'}, {'id': 4290,...\n",
       "1   8844  [{'id': 10090, 'name': 'board game'}, {'id': 1...\n",
       "2  15602  [{'id': 1495, 'name': 'fishing'}, {'id': 12392...\n",
       "3  31357  [{'id': 818, 'name': 'based on novel'}, {'id':...\n",
       "4  11862  [{'id': 1009, 'name': 'baby'}, {'id': 1599, 'n..."
      ]
     },
     "execution_count": 21,
     "metadata": {},
     "output_type": "execute_result"
    }
   ],
   "source": [
    "keywords.head()"
   ]
  },
  {
   "cell_type": "code",
   "execution_count": 22,
   "metadata": {
    "colab": {
     "base_uri": "https://localhost:8080/"
    },
    "id": "fE4-FxmFumNS",
    "outputId": "c3bce573-21c4-4cdf-d151-a2662fed3d7b"
   },
   "outputs": [
    {
     "name": "stdout",
     "output_type": "stream",
     "text": [
      "movies: (45466, 24)\n",
      "credits: (45476, 3)\n",
      "keywords: (46419, 2)\n"
     ]
    }
   ],
   "source": [
    "# check dataframe shape (rows, columns)\n",
    "print('movies:', movies.shape)\n",
    "print('credits:', credits.shape)\n",
    "print('keywords:', keywords.shape)"
   ]
  },
  {
   "cell_type": "code",
   "execution_count": 23,
   "metadata": {
    "colab": {
     "base_uri": "https://localhost:8080/"
    },
    "id": "9Dmc8Gy79RLW",
    "outputId": "9d8d59ea-df8e-4c8b-b63b-30cf37160300"
   },
   "outputs": [
    {
     "name": "stdout",
     "output_type": "stream",
     "text": [
      "movies:\n",
      "adult                     object\n",
      "belongs_to_collection     object\n",
      "budget                    object\n",
      "genres                    object\n",
      "homepage                  object\n",
      "id                        object\n",
      "imdb_id                   object\n",
      "original_language         object\n",
      "original_title            object\n",
      "overview                  object\n",
      "popularity                object\n",
      "poster_path               object\n",
      "production_companies      object\n",
      "production_countries      object\n",
      "release_date              object\n",
      "revenue                  float64\n",
      "runtime                  float64\n",
      "spoken_languages          object\n",
      "status                    object\n",
      "tagline                   object\n",
      "title                     object\n",
      "video                     object\n",
      "vote_average             float64\n",
      "vote_count               float64\n",
      "dtype: object \n",
      "\n",
      "credits:\n",
      "cast    object\n",
      "crew    object\n",
      "id       int64\n",
      "dtype: object \n",
      "\n",
      "keywords:\n",
      "id           int64\n",
      "keywords    object\n",
      "dtype: object\n"
     ]
    }
   ],
   "source": [
    "# check data types\n",
    "print('movies:')\n",
    "print(movies.dtypes, '\\n')\n",
    "print('credits:')\n",
    "print(credits.dtypes, '\\n')\n",
    "print('keywords:')\n",
    "print(keywords.dtypes)"
   ]
  },
  {
   "cell_type": "code",
   "execution_count": 24,
   "metadata": {
    "colab": {
     "base_uri": "https://localhost:8080/"
    },
    "id": "dvNnBq7e9noK",
    "outputId": "0fcddd1a-969a-4226-a6cc-abef75ce268f"
   },
   "outputs": [
    {
     "name": "stdout",
     "output_type": "stream",
     "text": [
      "movies:\n",
      "adult                    string[python]\n",
      "belongs_to_collection    string[python]\n",
      "budget                   string[python]\n",
      "genres                   string[python]\n",
      "homepage                 string[python]\n",
      "id                       string[python]\n",
      "imdb_id                  string[python]\n",
      "original_language        string[python]\n",
      "original_title           string[python]\n",
      "overview                 string[python]\n",
      "popularity               string[python]\n",
      "poster_path              string[python]\n",
      "production_companies     string[python]\n",
      "production_countries     string[python]\n",
      "release_date             string[python]\n",
      "revenue                           Int64\n",
      "runtime                           Int64\n",
      "spoken_languages         string[python]\n",
      "status                   string[python]\n",
      "tagline                  string[python]\n",
      "title                    string[python]\n",
      "video                           boolean\n",
      "vote_average                    Float64\n",
      "vote_count                        Int64\n",
      "dtype: object \n",
      "\n",
      "credits:\n",
      "cast    string[python]\n",
      "crew    string[python]\n",
      "id               Int64\n",
      "dtype: object \n",
      "\n",
      "keywords:\n",
      "id                   Int64\n",
      "keywords    string[python]\n",
      "dtype: object\n"
     ]
    }
   ],
   "source": [
    "# convert data types \n",
    "movies = movies.convert_dtypes()\n",
    "credits = credits.convert_dtypes()\n",
    "keywords = keywords.convert_dtypes()\n",
    "\n",
    "print('movies:')\n",
    "print(movies.dtypes, '\\n')\n",
    "print('credits:')\n",
    "print(credits.dtypes, '\\n')\n",
    "print('keywords:')\n",
    "print(keywords.dtypes)"
   ]
  },
  {
   "cell_type": "markdown",
   "metadata": {
    "id": "L4y4HKuzvLfQ"
   },
   "source": [
    "# Data Cleaning and Merge Dataframes"
   ]
  },
  {
   "cell_type": "code",
   "execution_count": 25,
   "metadata": {
    "colab": {
     "base_uri": "https://localhost:8080/"
    },
    "id": "XBNNRgI9BXus",
    "outputId": "0302f408-bde6-4538-a548-827b35056d30"
   },
   "outputs": [
    {
     "name": "stdout",
     "output_type": "stream",
     "text": [
      "19730    1997-08-20\n",
      "29503    2012-09-29\n",
      "35587    2014-01-01\n",
      "Name: id, dtype: string \n",
      "\n",
      "Check movies data types again: \n",
      " adult                    string[python]\n",
      "belongs_to_collection    string[python]\n",
      "budget                   string[python]\n",
      "genres                   string[python]\n",
      "homepage                 string[python]\n",
      "id                                int64\n",
      "imdb_id                  string[python]\n",
      "original_language        string[python]\n",
      "original_title           string[python]\n",
      "overview                 string[python]\n",
      "popularity               string[python]\n",
      "poster_path              string[python]\n",
      "production_companies     string[python]\n",
      "production_countries     string[python]\n",
      "release_date             datetime64[ns]\n",
      "revenue                           Int64\n",
      "runtime                           Int64\n",
      "spoken_languages         string[python]\n",
      "status                   string[python]\n",
      "tagline                  string[python]\n",
      "title                    string[python]\n",
      "video                           boolean\n",
      "vote_average                    Float64\n",
      "vote_count                        Int64\n",
      "dtype: object\n"
     ]
    }
   ],
   "source": [
    "# check why the id column in movies is a string by showing rows where id is not pure digits\n",
    "print(movies[~movies['id'].astype(str).str.isdigit()]['id'], '\\n')\n",
    "# filter out id's that contains values other than digits\n",
    "movies_cleaned = movies.loc[movies['id'].astype(str).str.isdigit()].copy()\n",
    "movies_cleaned['id'] = movies_cleaned['id'].astype('int64')\n",
    "\n",
    "# convert release_date to date\n",
    "movies_cleaned['release_date'] = pd.to_datetime(movies_cleaned['release_date'], errors='coerce') # invalid dates will result in Nat\n",
    "\n",
    "print('Check movies data types again:', '\\n', movies_cleaned.dtypes)"
   ]
  },
  {
   "cell_type": "code",
   "execution_count": 26,
   "metadata": {
    "colab": {
     "base_uri": "https://localhost:8080/"
    },
    "id": "2pM3Nj8Mbd3W",
    "outputId": "238467a7-bf52-43e3-fc13-abcafcc8bfb4"
   },
   "outputs": [
    {
     "name": "stdout",
     "output_type": "stream",
     "text": [
      "Minimum movie release date: 1874-12-09 00:00:00\n",
      "Maximum movie release date: 2020-12-16 00:00:00\n",
      "Check movies dataframe shape: (24007, 24)\n"
     ]
    }
   ],
   "source": [
    "# check range of release_date\n",
    "print('Minimum movie release date:', movies_cleaned['release_date'].min())\n",
    "print('Maximum movie release date:', movies_cleaned['release_date'].max())\n",
    "\n",
    "# filter out movies that were released before 2000\n",
    "movies_cleaned = movies_cleaned[movies_cleaned['release_date'] >= '2000-01-01 00:00:00']\n",
    "print('Check movies dataframe shape:', movies_cleaned.shape)"
   ]
  },
  {
   "cell_type": "code",
   "execution_count": 27,
   "metadata": {
    "colab": {
     "base_uri": "https://localhost:8080/"
    },
    "id": "d25liMPr6uSi",
    "outputId": "57cda597-e7e4-4981-d226-1d0c93b42a22"
   },
   "outputs": [
    {
     "name": "stdout",
     "output_type": "stream",
     "text": [
      "movies:\n",
      "adult                        0\n",
      "belongs_to_collection    21768\n",
      "budget                       0\n",
      "genres                       0\n",
      "homepage                 16782\n",
      "id                           0\n",
      "imdb_id                      9\n",
      "original_language            6\n",
      "original_title               0\n",
      "overview                   535\n",
      "popularity                   0\n",
      "poster_path                188\n",
      "production_companies         0\n",
      "production_countries         0\n",
      "release_date                 0\n",
      "revenue                      0\n",
      "runtime                    142\n",
      "spoken_languages             0\n",
      "status                      53\n",
      "tagline                  14059\n",
      "title                        0\n",
      "video                        0\n",
      "vote_average                 0\n",
      "vote_count                   0\n",
      "dtype: int64 \n",
      "\n",
      "credits:\n",
      "cast    0\n",
      "crew    0\n",
      "id      0\n",
      "dtype: int64 \n",
      "\n",
      "keywords:\n",
      "id          0\n",
      "keywords    0\n",
      "dtype: int64\n"
     ]
    }
   ],
   "source": [
    "# check nulls\n",
    "print('movies:')\n",
    "print(movies_cleaned.isna().sum(), '\\n')\n",
    "print('credits:')\n",
    "print(credits.isna().sum(), '\\n')\n",
    "print('keywords:')\n",
    "print(keywords.isna().sum())"
   ]
  },
  {
   "cell_type": "code",
   "execution_count": 28,
   "metadata": {
    "colab": {
     "base_uri": "https://localhost:8080/"
    },
    "id": "8uHFKbYK1m_I",
    "outputId": "b5ac7e25-fd92-4fb7-f701-5dd64bc732c4"
   },
   "outputs": [
    {
     "name": "stdout",
     "output_type": "stream",
     "text": [
      "# of columns before dropping: 24\n",
      "# of columns after dropping: 21\n"
     ]
    }
   ],
   "source": [
    "# drop movies columns that have too many nulls\n",
    "print('# of columns before dropping:', movies_cleaned.shape[1])\n",
    "movies_cleaned.drop(['belongs_to_collection', 'homepage', 'tagline'], axis=1, inplace=True)\n",
    "print('# of columns after dropping:', movies_cleaned.shape[1])"
   ]
  },
  {
   "cell_type": "code",
   "execution_count": 29,
   "metadata": {
    "colab": {
     "base_uri": "https://localhost:8080/"
    },
    "id": "OkzqTod-6uUl",
    "outputId": "495f576f-ef9b-47d3-d5b4-b9fa093ed9eb"
   },
   "outputs": [
    {
     "name": "stdout",
     "output_type": "stream",
     "text": [
      "movies:\n",
      "id\n",
      "False    23989\n",
      "True        18\n",
      "Name: count, dtype: int64 \n",
      "\n",
      "credits:\n",
      "id\n",
      "False    45432\n",
      "True        44\n",
      "Name: count, dtype: int64 \n",
      "\n",
      "keywords:\n",
      "id\n",
      "False    45432\n",
      "True       987\n",
      "Name: count, dtype: int64\n"
     ]
    }
   ],
   "source": [
    "# check id duplicates\n",
    "print('movies:')\n",
    "print(movies_cleaned.id.duplicated().value_counts(), '\\n')\n",
    "print('credits:')\n",
    "print(credits.id.duplicated().value_counts(), '\\n')\n",
    "print('keywords:')\n",
    "print(keywords.id.duplicated().value_counts())"
   ]
  },
  {
   "cell_type": "code",
   "execution_count": 30,
   "metadata": {
    "id": "mGzfkiEs8p5e"
   },
   "outputs": [],
   "source": [
    "# drop duplicated id\n",
    "movies_cleaned = movies_cleaned.drop_duplicates(subset='id')\n",
    "credits = credits.drop_duplicates(subset='id')\n",
    "keywords = keywords.drop_duplicates(subset='id')"
   ]
  },
  {
   "cell_type": "code",
   "execution_count": 31,
   "metadata": {
    "colab": {
     "base_uri": "https://localhost:8080/"
    },
    "id": "KOpHGj0p6O22",
    "outputId": "d424eb55-066f-482c-b24f-4768fbca35a7"
   },
   "outputs": [
    {
     "name": "stdout",
     "output_type": "stream",
     "text": [
      "movies:\n",
      "(23989, 21) \n",
      "\n",
      "credits:\n",
      "(45432, 3) \n",
      "\n",
      "keywords:\n",
      "(45432, 2)\n"
     ]
    }
   ],
   "source": [
    "# check dataframe shape\n",
    "print('movies:')\n",
    "print(movies_cleaned.shape, '\\n')\n",
    "print('credits:')\n",
    "print(credits.shape, '\\n')\n",
    "print('keywords:')\n",
    "print(keywords.shape)"
   ]
  },
  {
   "cell_type": "code",
   "execution_count": 32,
   "metadata": {
    "colab": {
     "base_uri": "https://localhost:8080/",
     "height": 600
    },
    "id": "GNYVSR8RUsw1",
    "outputId": "f2daf2a1-f925-453e-ba95-3886de5ab449"
   },
   "outputs": [
    {
     "data": {
      "text/html": [
       "<div>\n",
       "<style scoped>\n",
       "    .dataframe tbody tr th:only-of-type {\n",
       "        vertical-align: middle;\n",
       "    }\n",
       "\n",
       "    .dataframe tbody tr th {\n",
       "        vertical-align: top;\n",
       "    }\n",
       "\n",
       "    .dataframe thead th {\n",
       "        text-align: right;\n",
       "    }\n",
       "</style>\n",
       "<table border=\"1\" class=\"dataframe\">\n",
       "  <thead>\n",
       "    <tr style=\"text-align: right;\">\n",
       "      <th></th>\n",
       "      <th>adult</th>\n",
       "      <th>budget</th>\n",
       "      <th>genres</th>\n",
       "      <th>id</th>\n",
       "      <th>imdb_id</th>\n",
       "      <th>original_language</th>\n",
       "      <th>original_title</th>\n",
       "      <th>overview</th>\n",
       "      <th>popularity</th>\n",
       "      <th>poster_path</th>\n",
       "      <th>production_companies</th>\n",
       "      <th>production_countries</th>\n",
       "      <th>release_date</th>\n",
       "      <th>revenue</th>\n",
       "      <th>runtime</th>\n",
       "      <th>spoken_languages</th>\n",
       "      <th>status</th>\n",
       "      <th>title</th>\n",
       "      <th>video</th>\n",
       "      <th>vote_average</th>\n",
       "      <th>vote_count</th>\n",
       "      <th>cast</th>\n",
       "      <th>crew</th>\n",
       "      <th>keywords</th>\n",
       "    </tr>\n",
       "  </thead>\n",
       "  <tbody>\n",
       "    <tr>\n",
       "      <th>0</th>\n",
       "      <td>False</td>\n",
       "      <td>0</td>\n",
       "      <td>[{'id': 18, 'name': 'Drama'}, {'id': 10769, 'n...</td>\n",
       "      <td>131232</td>\n",
       "      <td>tt0333373</td>\n",
       "      <td>en</td>\n",
       "      <td>Due Amici</td>\n",
       "      <td>Two Sicilian friends, Nunzio and Pino, share t...</td>\n",
       "      <td>0.003949</td>\n",
       "      <td>/jo4n8M8EHedIuatB39C8EEmJBH8.jpg</td>\n",
       "      <td>[]</td>\n",
       "      <td>[{'iso_3166_1': 'IT', 'name': 'Italy'}]</td>\n",
       "      <td>2002-03-20</td>\n",
       "      <td>0</td>\n",
       "      <td>86</td>\n",
       "      <td>[{'iso_639_1': 'it', 'name': 'Italiano'}]</td>\n",
       "      <td>Released</td>\n",
       "      <td>Two Friends</td>\n",
       "      <td>False</td>\n",
       "      <td>0.0</td>\n",
       "      <td>0</td>\n",
       "      <td>[{'cast_id': 5, 'character': 'Nunzio', 'credit...</td>\n",
       "      <td>[{'credit_id': '52fe4b72c3a368484e1896cd', 'de...</td>\n",
       "      <td>[]</td>\n",
       "    </tr>\n",
       "    <tr>\n",
       "      <th>1</th>\n",
       "      <td>False</td>\n",
       "      <td>0</td>\n",
       "      <td>[{'id': 18, 'name': 'Drama'}, {'id': 10749, 'n...</td>\n",
       "      <td>79782</td>\n",
       "      <td>tt1684935</td>\n",
       "      <td>en</td>\n",
       "      <td>Wenecja</td>\n",
       "      <td>An atmospheric coming-of-age story featuring a...</td>\n",
       "      <td>0.14713</td>\n",
       "      <td>/lUmJiBTKdesFDkgSvV9zecCgNO6.jpg</td>\n",
       "      <td>[]</td>\n",
       "      <td>[]</td>\n",
       "      <td>2010-05-25</td>\n",
       "      <td>0</td>\n",
       "      <td>110</td>\n",
       "      <td>[{'iso_639_1': 'pl', 'name': 'Polski'}]</td>\n",
       "      <td>Released</td>\n",
       "      <td>Venice</td>\n",
       "      <td>False</td>\n",
       "      <td>7.5</td>\n",
       "      <td>4</td>\n",
       "      <td>[{'cast_id': 1005, 'character': 'Marek', 'cred...</td>\n",
       "      <td>[{'credit_id': '52fe49e5c3a368484e145fb7', 'de...</td>\n",
       "      <td>[]</td>\n",
       "    </tr>\n",
       "    <tr>\n",
       "      <th>2</th>\n",
       "      <td>False</td>\n",
       "      <td>0</td>\n",
       "      <td>[{'id': 35, 'name': 'Comedy'}, {'id': 27, 'nam...</td>\n",
       "      <td>141210</td>\n",
       "      <td>tt2250194</td>\n",
       "      <td>en</td>\n",
       "      <td>The Sleepover</td>\n",
       "      <td>The town of Derry has a secret, but no one tol...</td>\n",
       "      <td>0.135596</td>\n",
       "      <td>/pQpyEmFTGaox4yLuUXmiD2IDIbA.jpg</td>\n",
       "      <td>[]</td>\n",
       "      <td>[]</td>\n",
       "      <td>2013-10-12</td>\n",
       "      <td>0</td>\n",
       "      <td>6</td>\n",
       "      <td>[]</td>\n",
       "      <td>Released</td>\n",
       "      <td>The Sleepover</td>\n",
       "      <td>False</td>\n",
       "      <td>8.0</td>\n",
       "      <td>1</td>\n",
       "      <td>[{'cast_id': 2, 'character': 'Rachel', 'credit...</td>\n",
       "      <td>[{'credit_id': '52fe4aaf9251416c750ea6f1', 'de...</td>\n",
       "      <td>[]</td>\n",
       "    </tr>\n",
       "    <tr>\n",
       "      <th>3</th>\n",
       "      <td>False</td>\n",
       "      <td>0</td>\n",
       "      <td>[{'id': 18, 'name': 'Drama'}]</td>\n",
       "      <td>143750</td>\n",
       "      <td>tt2140519</td>\n",
       "      <td>en</td>\n",
       "      <td>The Farmer's Wife</td>\n",
       "      <td>As her surroundings are invaded by outsiders, ...</td>\n",
       "      <td>0.211754</td>\n",
       "      <td>/ePPNVWyIKYBdsGrOrYVaPKM8DlM.jpg</td>\n",
       "      <td>[]</td>\n",
       "      <td>[]</td>\n",
       "      <td>2012-06-20</td>\n",
       "      <td>0</td>\n",
       "      <td>18</td>\n",
       "      <td>[{'iso_639_1': 'en', 'name': 'English'}]</td>\n",
       "      <td>Released</td>\n",
       "      <td>The Farmer's Wife</td>\n",
       "      <td>False</td>\n",
       "      <td>10.0</td>\n",
       "      <td>1</td>\n",
       "      <td>[{'cast_id': 10, 'character': 'The Auctioneer'...</td>\n",
       "      <td>[{'credit_id': '52fe4b169251416c750f7cd5', 'de...</td>\n",
       "      <td>[{'id': 214549, 'name': 'short'}]</td>\n",
       "    </tr>\n",
       "    <tr>\n",
       "      <th>4</th>\n",
       "      <td>False</td>\n",
       "      <td>0</td>\n",
       "      <td>[{'id': 99, 'name': 'Documentary'}]</td>\n",
       "      <td>84198</td>\n",
       "      <td>tt1736049</td>\n",
       "      <td>en</td>\n",
       "      <td>A Place at the Table</td>\n",
       "      <td>Using personal stories, this powerful document...</td>\n",
       "      <td>0.501046</td>\n",
       "      <td>/jn8L1QdWWX5c0NUOLjzaSXtZrbt.jpg</td>\n",
       "      <td>[]</td>\n",
       "      <td>[{'iso_3166_1': 'US', 'name': 'United States o...</td>\n",
       "      <td>2012-03-22</td>\n",
       "      <td>0</td>\n",
       "      <td>84</td>\n",
       "      <td>[{'iso_639_1': 'en', 'name': 'English'}]</td>\n",
       "      <td>Released</td>\n",
       "      <td>A Place at the Table</td>\n",
       "      <td>False</td>\n",
       "      <td>6.9</td>\n",
       "      <td>7</td>\n",
       "      <td>[{'cast_id': 3, 'character': 'Himself', 'credi...</td>\n",
       "      <td>[{'credit_id': '52fe48e09251416c9109b347', 'de...</td>\n",
       "      <td>[{'id': 187056, 'name': 'woman director'}]</td>\n",
       "    </tr>\n",
       "  </tbody>\n",
       "</table>\n",
       "</div>"
      ],
      "text/plain": [
       "   adult budget                                             genres      id   \n",
       "0  False      0  [{'id': 18, 'name': 'Drama'}, {'id': 10769, 'n...  131232  \\\n",
       "1  False      0  [{'id': 18, 'name': 'Drama'}, {'id': 10749, 'n...   79782   \n",
       "2  False      0  [{'id': 35, 'name': 'Comedy'}, {'id': 27, 'nam...  141210   \n",
       "3  False      0                      [{'id': 18, 'name': 'Drama'}]  143750   \n",
       "4  False      0                [{'id': 99, 'name': 'Documentary'}]   84198   \n",
       "\n",
       "     imdb_id original_language        original_title   \n",
       "0  tt0333373                en             Due Amici  \\\n",
       "1  tt1684935                en               Wenecja   \n",
       "2  tt2250194                en         The Sleepover   \n",
       "3  tt2140519                en     The Farmer's Wife   \n",
       "4  tt1736049                en  A Place at the Table   \n",
       "\n",
       "                                            overview popularity   \n",
       "0  Two Sicilian friends, Nunzio and Pino, share t...   0.003949  \\\n",
       "1  An atmospheric coming-of-age story featuring a...    0.14713   \n",
       "2  The town of Derry has a secret, but no one tol...   0.135596   \n",
       "3  As her surroundings are invaded by outsiders, ...   0.211754   \n",
       "4  Using personal stories, this powerful document...   0.501046   \n",
       "\n",
       "                        poster_path production_companies   \n",
       "0  /jo4n8M8EHedIuatB39C8EEmJBH8.jpg                   []  \\\n",
       "1  /lUmJiBTKdesFDkgSvV9zecCgNO6.jpg                   []   \n",
       "2  /pQpyEmFTGaox4yLuUXmiD2IDIbA.jpg                   []   \n",
       "3  /ePPNVWyIKYBdsGrOrYVaPKM8DlM.jpg                   []   \n",
       "4  /jn8L1QdWWX5c0NUOLjzaSXtZrbt.jpg                   []   \n",
       "\n",
       "                                production_countries release_date  revenue   \n",
       "0            [{'iso_3166_1': 'IT', 'name': 'Italy'}]   2002-03-20        0  \\\n",
       "1                                                 []   2010-05-25        0   \n",
       "2                                                 []   2013-10-12        0   \n",
       "3                                                 []   2012-06-20        0   \n",
       "4  [{'iso_3166_1': 'US', 'name': 'United States o...   2012-03-22        0   \n",
       "\n",
       "   runtime                           spoken_languages    status   \n",
       "0       86  [{'iso_639_1': 'it', 'name': 'Italiano'}]  Released  \\\n",
       "1      110    [{'iso_639_1': 'pl', 'name': 'Polski'}]  Released   \n",
       "2        6                                         []  Released   \n",
       "3       18   [{'iso_639_1': 'en', 'name': 'English'}]  Released   \n",
       "4       84   [{'iso_639_1': 'en', 'name': 'English'}]  Released   \n",
       "\n",
       "                  title  video  vote_average  vote_count   \n",
       "0           Two Friends  False           0.0           0  \\\n",
       "1                Venice  False           7.5           4   \n",
       "2         The Sleepover  False           8.0           1   \n",
       "3     The Farmer's Wife  False          10.0           1   \n",
       "4  A Place at the Table  False           6.9           7   \n",
       "\n",
       "                                                cast   \n",
       "0  [{'cast_id': 5, 'character': 'Nunzio', 'credit...  \\\n",
       "1  [{'cast_id': 1005, 'character': 'Marek', 'cred...   \n",
       "2  [{'cast_id': 2, 'character': 'Rachel', 'credit...   \n",
       "3  [{'cast_id': 10, 'character': 'The Auctioneer'...   \n",
       "4  [{'cast_id': 3, 'character': 'Himself', 'credi...   \n",
       "\n",
       "                                                crew   \n",
       "0  [{'credit_id': '52fe4b72c3a368484e1896cd', 'de...  \\\n",
       "1  [{'credit_id': '52fe49e5c3a368484e145fb7', 'de...   \n",
       "2  [{'credit_id': '52fe4aaf9251416c750ea6f1', 'de...   \n",
       "3  [{'credit_id': '52fe4b169251416c750f7cd5', 'de...   \n",
       "4  [{'credit_id': '52fe48e09251416c9109b347', 'de...   \n",
       "\n",
       "                                     keywords  \n",
       "0                                          []  \n",
       "1                                          []  \n",
       "2                                          []  \n",
       "3           [{'id': 214549, 'name': 'short'}]  \n",
       "4  [{'id': 187056, 'name': 'woman director'}]  "
      ]
     },
     "execution_count": 32,
     "metadata": {},
     "output_type": "execute_result"
    }
   ],
   "source": [
    "# merge the 3 dataframes\n",
    "df = movies_cleaned.merge(credits, on='id')\n",
    "df = df.merge(keywords, on='id')\n",
    "df.head()"
   ]
  },
  {
   "cell_type": "code",
   "execution_count": 33,
   "metadata": {
    "colab": {
     "base_uri": "https://localhost:8080/"
    },
    "id": "FBACiERsEzSU",
    "outputId": "841886fd-0c02-4e60-d896-5e487ab82fc7"
   },
   "outputs": [
    {
     "data": {
      "text/plain": [
       "(23988, 24)"
      ]
     },
     "execution_count": 33,
     "metadata": {},
     "output_type": "execute_result"
    }
   ],
   "source": [
    "df.shape"
   ]
  },
  {
   "cell_type": "code",
   "execution_count": 35,
   "metadata": {
    "id": "m0gOEcKO-8iz"
   },
   "outputs": [],
   "source": [
    "# export dataframe as CSV\n",
    "df.to_csv('data/merged_df.csv', index=False)"
   ]
  },
  {
   "cell_type": "markdown",
   "metadata": {
    "id": "4BikF3av_jLZ"
   },
   "source": [
    "# Text Preprocessing"
   ]
  },
  {
   "cell_type": "code",
   "execution_count": 36,
   "metadata": {
    "colab": {
     "base_uri": "https://localhost:8080/",
     "height": 600
    },
    "id": "KtceTqVq_UKO",
    "outputId": "58888b07-e010-4753-872b-3bc16929389e"
   },
   "outputs": [
    {
     "data": {
      "text/html": [
       "<div>\n",
       "<style scoped>\n",
       "    .dataframe tbody tr th:only-of-type {\n",
       "        vertical-align: middle;\n",
       "    }\n",
       "\n",
       "    .dataframe tbody tr th {\n",
       "        vertical-align: top;\n",
       "    }\n",
       "\n",
       "    .dataframe thead th {\n",
       "        text-align: right;\n",
       "    }\n",
       "</style>\n",
       "<table border=\"1\" class=\"dataframe\">\n",
       "  <thead>\n",
       "    <tr style=\"text-align: right;\">\n",
       "      <th></th>\n",
       "      <th>adult</th>\n",
       "      <th>budget</th>\n",
       "      <th>genres</th>\n",
       "      <th>id</th>\n",
       "      <th>imdb_id</th>\n",
       "      <th>original_language</th>\n",
       "      <th>original_title</th>\n",
       "      <th>overview</th>\n",
       "      <th>popularity</th>\n",
       "      <th>poster_path</th>\n",
       "      <th>production_companies</th>\n",
       "      <th>production_countries</th>\n",
       "      <th>release_date</th>\n",
       "      <th>revenue</th>\n",
       "      <th>runtime</th>\n",
       "      <th>spoken_languages</th>\n",
       "      <th>status</th>\n",
       "      <th>title</th>\n",
       "      <th>video</th>\n",
       "      <th>vote_average</th>\n",
       "      <th>vote_count</th>\n",
       "      <th>cast</th>\n",
       "      <th>crew</th>\n",
       "      <th>keywords</th>\n",
       "    </tr>\n",
       "  </thead>\n",
       "  <tbody>\n",
       "    <tr>\n",
       "      <th>0</th>\n",
       "      <td>False</td>\n",
       "      <td>0</td>\n",
       "      <td>[{'id': 18, 'name': 'Drama'}, {'id': 10769, 'n...</td>\n",
       "      <td>131232</td>\n",
       "      <td>tt0333373</td>\n",
       "      <td>en</td>\n",
       "      <td>Due Amici</td>\n",
       "      <td>Two Sicilian friends, Nunzio and Pino, share t...</td>\n",
       "      <td>0.003949</td>\n",
       "      <td>/jo4n8M8EHedIuatB39C8EEmJBH8.jpg</td>\n",
       "      <td>[]</td>\n",
       "      <td>[{'iso_3166_1': 'IT', 'name': 'Italy'}]</td>\n",
       "      <td>2002-03-20</td>\n",
       "      <td>0</td>\n",
       "      <td>86.0</td>\n",
       "      <td>[{'iso_639_1': 'it', 'name': 'Italiano'}]</td>\n",
       "      <td>Released</td>\n",
       "      <td>Two Friends</td>\n",
       "      <td>False</td>\n",
       "      <td>0.0</td>\n",
       "      <td>0</td>\n",
       "      <td>[{'cast_id': 5, 'character': 'Nunzio', 'credit...</td>\n",
       "      <td>[{'credit_id': '52fe4b72c3a368484e1896cd', 'de...</td>\n",
       "      <td>[]</td>\n",
       "    </tr>\n",
       "    <tr>\n",
       "      <th>1</th>\n",
       "      <td>False</td>\n",
       "      <td>0</td>\n",
       "      <td>[{'id': 18, 'name': 'Drama'}, {'id': 10749, 'n...</td>\n",
       "      <td>79782</td>\n",
       "      <td>tt1684935</td>\n",
       "      <td>en</td>\n",
       "      <td>Wenecja</td>\n",
       "      <td>An atmospheric coming-of-age story featuring a...</td>\n",
       "      <td>0.147130</td>\n",
       "      <td>/lUmJiBTKdesFDkgSvV9zecCgNO6.jpg</td>\n",
       "      <td>[]</td>\n",
       "      <td>[]</td>\n",
       "      <td>2010-05-25</td>\n",
       "      <td>0</td>\n",
       "      <td>110.0</td>\n",
       "      <td>[{'iso_639_1': 'pl', 'name': 'Polski'}]</td>\n",
       "      <td>Released</td>\n",
       "      <td>Venice</td>\n",
       "      <td>False</td>\n",
       "      <td>7.5</td>\n",
       "      <td>4</td>\n",
       "      <td>[{'cast_id': 1005, 'character': 'Marek', 'cred...</td>\n",
       "      <td>[{'credit_id': '52fe49e5c3a368484e145fb7', 'de...</td>\n",
       "      <td>[]</td>\n",
       "    </tr>\n",
       "    <tr>\n",
       "      <th>2</th>\n",
       "      <td>False</td>\n",
       "      <td>0</td>\n",
       "      <td>[{'id': 35, 'name': 'Comedy'}, {'id': 27, 'nam...</td>\n",
       "      <td>141210</td>\n",
       "      <td>tt2250194</td>\n",
       "      <td>en</td>\n",
       "      <td>The Sleepover</td>\n",
       "      <td>The town of Derry has a secret, but no one tol...</td>\n",
       "      <td>0.135596</td>\n",
       "      <td>/pQpyEmFTGaox4yLuUXmiD2IDIbA.jpg</td>\n",
       "      <td>[]</td>\n",
       "      <td>[]</td>\n",
       "      <td>2013-10-12</td>\n",
       "      <td>0</td>\n",
       "      <td>6.0</td>\n",
       "      <td>[]</td>\n",
       "      <td>Released</td>\n",
       "      <td>The Sleepover</td>\n",
       "      <td>False</td>\n",
       "      <td>8.0</td>\n",
       "      <td>1</td>\n",
       "      <td>[{'cast_id': 2, 'character': 'Rachel', 'credit...</td>\n",
       "      <td>[{'credit_id': '52fe4aaf9251416c750ea6f1', 'de...</td>\n",
       "      <td>[]</td>\n",
       "    </tr>\n",
       "  </tbody>\n",
       "</table>\n",
       "</div>"
      ],
      "text/plain": [
       "   adult  budget                                             genres      id   \n",
       "0  False       0  [{'id': 18, 'name': 'Drama'}, {'id': 10769, 'n...  131232  \\\n",
       "1  False       0  [{'id': 18, 'name': 'Drama'}, {'id': 10749, 'n...   79782   \n",
       "2  False       0  [{'id': 35, 'name': 'Comedy'}, {'id': 27, 'nam...  141210   \n",
       "\n",
       "     imdb_id original_language original_title   \n",
       "0  tt0333373                en      Due Amici  \\\n",
       "1  tt1684935                en        Wenecja   \n",
       "2  tt2250194                en  The Sleepover   \n",
       "\n",
       "                                            overview  popularity   \n",
       "0  Two Sicilian friends, Nunzio and Pino, share t...    0.003949  \\\n",
       "1  An atmospheric coming-of-age story featuring a...    0.147130   \n",
       "2  The town of Derry has a secret, but no one tol...    0.135596   \n",
       "\n",
       "                        poster_path production_companies   \n",
       "0  /jo4n8M8EHedIuatB39C8EEmJBH8.jpg                   []  \\\n",
       "1  /lUmJiBTKdesFDkgSvV9zecCgNO6.jpg                   []   \n",
       "2  /pQpyEmFTGaox4yLuUXmiD2IDIbA.jpg                   []   \n",
       "\n",
       "                      production_countries release_date  revenue  runtime   \n",
       "0  [{'iso_3166_1': 'IT', 'name': 'Italy'}]   2002-03-20        0     86.0  \\\n",
       "1                                       []   2010-05-25        0    110.0   \n",
       "2                                       []   2013-10-12        0      6.0   \n",
       "\n",
       "                            spoken_languages    status          title  video   \n",
       "0  [{'iso_639_1': 'it', 'name': 'Italiano'}]  Released    Two Friends  False  \\\n",
       "1    [{'iso_639_1': 'pl', 'name': 'Polski'}]  Released         Venice  False   \n",
       "2                                         []  Released  The Sleepover  False   \n",
       "\n",
       "   vote_average  vote_count   \n",
       "0           0.0           0  \\\n",
       "1           7.5           4   \n",
       "2           8.0           1   \n",
       "\n",
       "                                                cast   \n",
       "0  [{'cast_id': 5, 'character': 'Nunzio', 'credit...  \\\n",
       "1  [{'cast_id': 1005, 'character': 'Marek', 'cred...   \n",
       "2  [{'cast_id': 2, 'character': 'Rachel', 'credit...   \n",
       "\n",
       "                                                crew keywords  \n",
       "0  [{'credit_id': '52fe4b72c3a368484e1896cd', 'de...       []  \n",
       "1  [{'credit_id': '52fe49e5c3a368484e145fb7', 'de...       []  \n",
       "2  [{'credit_id': '52fe4aaf9251416c750ea6f1', 'de...       []  "
      ]
     },
     "execution_count": 36,
     "metadata": {},
     "output_type": "execute_result"
    }
   ],
   "source": [
    "merged_df = pd.read_csv('data/merged_df.csv')\n",
    "merged_df.head(3)"
   ]
  },
  {
   "cell_type": "code",
   "execution_count": 37,
   "metadata": {
    "colab": {
     "base_uri": "https://localhost:8080/",
     "height": 600
    },
    "id": "eKiVsYV8EzUv",
    "outputId": "d68d2c58-1f18-40a1-89a4-7aedf81b4777"
   },
   "outputs": [
    {
     "data": {
      "text/html": [
       "<div>\n",
       "<style scoped>\n",
       "    .dataframe tbody tr th:only-of-type {\n",
       "        vertical-align: middle;\n",
       "    }\n",
       "\n",
       "    .dataframe tbody tr th {\n",
       "        vertical-align: top;\n",
       "    }\n",
       "\n",
       "    .dataframe thead th {\n",
       "        text-align: right;\n",
       "    }\n",
       "</style>\n",
       "<table border=\"1\" class=\"dataframe\">\n",
       "  <thead>\n",
       "    <tr style=\"text-align: right;\">\n",
       "      <th></th>\n",
       "      <th>adult</th>\n",
       "      <th>budget</th>\n",
       "      <th>genres</th>\n",
       "      <th>id</th>\n",
       "      <th>imdb_id</th>\n",
       "      <th>original_language</th>\n",
       "      <th>original_title</th>\n",
       "      <th>overview</th>\n",
       "      <th>popularity</th>\n",
       "      <th>poster_path</th>\n",
       "      <th>production_companies</th>\n",
       "      <th>production_countries</th>\n",
       "      <th>release_date</th>\n",
       "      <th>revenue</th>\n",
       "      <th>runtime</th>\n",
       "      <th>spoken_languages</th>\n",
       "      <th>status</th>\n",
       "      <th>title</th>\n",
       "      <th>video</th>\n",
       "      <th>vote_average</th>\n",
       "      <th>vote_count</th>\n",
       "      <th>cast</th>\n",
       "      <th>crew</th>\n",
       "      <th>keywords</th>\n",
       "    </tr>\n",
       "  </thead>\n",
       "  <tbody>\n",
       "    <tr>\n",
       "      <th>0</th>\n",
       "      <td>False</td>\n",
       "      <td>0</td>\n",
       "      <td>Drama    Foreign</td>\n",
       "      <td>131232</td>\n",
       "      <td>tt0333373</td>\n",
       "      <td>en</td>\n",
       "      <td>Due Amici</td>\n",
       "      <td>Two Sicilian friends, Nunzio and Pino, share t...</td>\n",
       "      <td>0.003949</td>\n",
       "      <td>/jo4n8M8EHedIuatB39C8EEmJBH8.jpg</td>\n",
       "      <td>[]</td>\n",
       "      <td>[{'iso_3166_1': 'IT', 'name': 'Italy'}]</td>\n",
       "      <td>2002-03-20</td>\n",
       "      <td>0</td>\n",
       "      <td>86.0</td>\n",
       "      <td>[{'iso_639_1': 'it', 'name': 'Italiano'}]</td>\n",
       "      <td>Released</td>\n",
       "      <td>Two Friends</td>\n",
       "      <td>False</td>\n",
       "      <td>0.0</td>\n",
       "      <td>0</td>\n",
       "      <td>[{'cast_id': 5, 'character': 'Nunzio', 'credit...</td>\n",
       "      <td>[{'credit_id': '52fe4b72c3a368484e1896cd', 'de...</td>\n",
       "      <td></td>\n",
       "    </tr>\n",
       "    <tr>\n",
       "      <th>1</th>\n",
       "      <td>False</td>\n",
       "      <td>0</td>\n",
       "      <td>Drama    Romance</td>\n",
       "      <td>79782</td>\n",
       "      <td>tt1684935</td>\n",
       "      <td>en</td>\n",
       "      <td>Wenecja</td>\n",
       "      <td>An atmospheric coming-of-age story featuring a...</td>\n",
       "      <td>0.147130</td>\n",
       "      <td>/lUmJiBTKdesFDkgSvV9zecCgNO6.jpg</td>\n",
       "      <td>[]</td>\n",
       "      <td>[]</td>\n",
       "      <td>2010-05-25</td>\n",
       "      <td>0</td>\n",
       "      <td>110.0</td>\n",
       "      <td>[{'iso_639_1': 'pl', 'name': 'Polski'}]</td>\n",
       "      <td>Released</td>\n",
       "      <td>Venice</td>\n",
       "      <td>False</td>\n",
       "      <td>7.5</td>\n",
       "      <td>4</td>\n",
       "      <td>[{'cast_id': 1005, 'character': 'Marek', 'cred...</td>\n",
       "      <td>[{'credit_id': '52fe49e5c3a368484e145fb7', 'de...</td>\n",
       "      <td></td>\n",
       "    </tr>\n",
       "    <tr>\n",
       "      <th>2</th>\n",
       "      <td>False</td>\n",
       "      <td>0</td>\n",
       "      <td>Comedy    Horror</td>\n",
       "      <td>141210</td>\n",
       "      <td>tt2250194</td>\n",
       "      <td>en</td>\n",
       "      <td>The Sleepover</td>\n",
       "      <td>The town of Derry has a secret, but no one tol...</td>\n",
       "      <td>0.135596</td>\n",
       "      <td>/pQpyEmFTGaox4yLuUXmiD2IDIbA.jpg</td>\n",
       "      <td>[]</td>\n",
       "      <td>[]</td>\n",
       "      <td>2013-10-12</td>\n",
       "      <td>0</td>\n",
       "      <td>6.0</td>\n",
       "      <td>[]</td>\n",
       "      <td>Released</td>\n",
       "      <td>The Sleepover</td>\n",
       "      <td>False</td>\n",
       "      <td>8.0</td>\n",
       "      <td>1</td>\n",
       "      <td>[{'cast_id': 2, 'character': 'Rachel', 'credit...</td>\n",
       "      <td>[{'credit_id': '52fe4aaf9251416c750ea6f1', 'de...</td>\n",
       "      <td></td>\n",
       "    </tr>\n",
       "  </tbody>\n",
       "</table>\n",
       "</div>"
      ],
      "text/plain": [
       "   adult  budget               genres      id    imdb_id original_language   \n",
       "0  False       0     Drama    Foreign  131232  tt0333373                en  \\\n",
       "1  False       0     Drama    Romance   79782  tt1684935                en   \n",
       "2  False       0     Comedy    Horror  141210  tt2250194                en   \n",
       "\n",
       "  original_title                                           overview   \n",
       "0      Due Amici  Two Sicilian friends, Nunzio and Pino, share t...  \\\n",
       "1        Wenecja  An atmospheric coming-of-age story featuring a...   \n",
       "2  The Sleepover  The town of Derry has a secret, but no one tol...   \n",
       "\n",
       "   popularity                       poster_path production_companies   \n",
       "0    0.003949  /jo4n8M8EHedIuatB39C8EEmJBH8.jpg                   []  \\\n",
       "1    0.147130  /lUmJiBTKdesFDkgSvV9zecCgNO6.jpg                   []   \n",
       "2    0.135596  /pQpyEmFTGaox4yLuUXmiD2IDIbA.jpg                   []   \n",
       "\n",
       "                      production_countries release_date  revenue  runtime   \n",
       "0  [{'iso_3166_1': 'IT', 'name': 'Italy'}]   2002-03-20        0     86.0  \\\n",
       "1                                       []   2010-05-25        0    110.0   \n",
       "2                                       []   2013-10-12        0      6.0   \n",
       "\n",
       "                            spoken_languages    status          title  video   \n",
       "0  [{'iso_639_1': 'it', 'name': 'Italiano'}]  Released    Two Friends  False  \\\n",
       "1    [{'iso_639_1': 'pl', 'name': 'Polski'}]  Released         Venice  False   \n",
       "2                                         []  Released  The Sleepover  False   \n",
       "\n",
       "   vote_average  vote_count   \n",
       "0           0.0           0  \\\n",
       "1           7.5           4   \n",
       "2           8.0           1   \n",
       "\n",
       "                                                cast   \n",
       "0  [{'cast_id': 5, 'character': 'Nunzio', 'credit...  \\\n",
       "1  [{'cast_id': 1005, 'character': 'Marek', 'cred...   \n",
       "2  [{'cast_id': 2, 'character': 'Rachel', 'credit...   \n",
       "\n",
       "                                                crew keywords  \n",
       "0  [{'credit_id': '52fe4b72c3a368484e1896cd', 'de...           \n",
       "1  [{'credit_id': '52fe49e5c3a368484e145fb7', 'de...           \n",
       "2  [{'credit_id': '52fe4aaf9251416c750ea6f1', 'de...           "
      ]
     },
     "execution_count": 37,
     "metadata": {},
     "output_type": "execute_result"
    }
   ],
   "source": [
    "merged_df['genres'] = merged_df['genres'].apply(lambda x: re.sub('[\\[\\]{}\\'0-9:,]', '', str(x)))\n",
    "merged_df['genres'] = merged_df['genres'].apply(lambda x: str(x).replace('id', '').replace('name', ''))\n",
    "\n",
    "merged_df['keywords'] = merged_df['keywords'].apply(lambda x: re.sub('[\\[\\]{}\\'0-9:,]', '', str(x)))\n",
    "merged_df['keywords'] = merged_df['keywords'].apply(lambda x: str(x).replace('id', '').replace('name', ''))\n",
    "\n",
    "merged_df.head(3)"
   ]
  },
  {
   "cell_type": "code",
   "execution_count": 38,
   "metadata": {
    "colab": {
     "base_uri": "https://localhost:8080/",
     "height": 600
    },
    "id": "5Mq7Qf6E8XQz",
    "outputId": "9405ea25-3ad0-4126-bfdd-e5bc8a004a91"
   },
   "outputs": [
    {
     "data": {
      "text/html": [
       "<div>\n",
       "<style scoped>\n",
       "    .dataframe tbody tr th:only-of-type {\n",
       "        vertical-align: middle;\n",
       "    }\n",
       "\n",
       "    .dataframe tbody tr th {\n",
       "        vertical-align: top;\n",
       "    }\n",
       "\n",
       "    .dataframe thead th {\n",
       "        text-align: right;\n",
       "    }\n",
       "</style>\n",
       "<table border=\"1\" class=\"dataframe\">\n",
       "  <thead>\n",
       "    <tr style=\"text-align: right;\">\n",
       "      <th></th>\n",
       "      <th>adult</th>\n",
       "      <th>budget</th>\n",
       "      <th>genres</th>\n",
       "      <th>id</th>\n",
       "      <th>imdb_id</th>\n",
       "      <th>original_language</th>\n",
       "      <th>original_title</th>\n",
       "      <th>overview</th>\n",
       "      <th>popularity</th>\n",
       "      <th>poster_path</th>\n",
       "      <th>production_companies</th>\n",
       "      <th>production_countries</th>\n",
       "      <th>release_date</th>\n",
       "      <th>revenue</th>\n",
       "      <th>runtime</th>\n",
       "      <th>spoken_languages</th>\n",
       "      <th>status</th>\n",
       "      <th>title</th>\n",
       "      <th>video</th>\n",
       "      <th>vote_average</th>\n",
       "      <th>vote_count</th>\n",
       "      <th>cast</th>\n",
       "      <th>crew</th>\n",
       "      <th>keywords</th>\n",
       "      <th>summary</th>\n",
       "    </tr>\n",
       "  </thead>\n",
       "  <tbody>\n",
       "    <tr>\n",
       "      <th>0</th>\n",
       "      <td>False</td>\n",
       "      <td>0</td>\n",
       "      <td>Drama    Foreign</td>\n",
       "      <td>131232</td>\n",
       "      <td>tt0333373</td>\n",
       "      <td>en</td>\n",
       "      <td>Due Amici</td>\n",
       "      <td>Two Sicilian friends, Nunzio and Pino, share t...</td>\n",
       "      <td>0.003949</td>\n",
       "      <td>/jo4n8M8EHedIuatB39C8EEmJBH8.jpg</td>\n",
       "      <td>[]</td>\n",
       "      <td>[{'iso_3166_1': 'IT', 'name': 'Italy'}]</td>\n",
       "      <td>2002-03-20</td>\n",
       "      <td>0</td>\n",
       "      <td>86.0</td>\n",
       "      <td>[{'iso_639_1': 'it', 'name': 'Italiano'}]</td>\n",
       "      <td>Released</td>\n",
       "      <td>Two Friends</td>\n",
       "      <td>False</td>\n",
       "      <td>0.0</td>\n",
       "      <td>0</td>\n",
       "      <td>[{'cast_id': 5, 'character': 'Nunzio', 'credit...</td>\n",
       "      <td>[{'credit_id': '52fe4b72c3a368484e1896cd', 'de...</td>\n",
       "      <td></td>\n",
       "      <td>Two Sicilian friends, Nunzio and Pino, share t...</td>\n",
       "    </tr>\n",
       "    <tr>\n",
       "      <th>1</th>\n",
       "      <td>False</td>\n",
       "      <td>0</td>\n",
       "      <td>Drama    Romance</td>\n",
       "      <td>79782</td>\n",
       "      <td>tt1684935</td>\n",
       "      <td>en</td>\n",
       "      <td>Wenecja</td>\n",
       "      <td>An atmospheric coming-of-age story featuring a...</td>\n",
       "      <td>0.147130</td>\n",
       "      <td>/lUmJiBTKdesFDkgSvV9zecCgNO6.jpg</td>\n",
       "      <td>[]</td>\n",
       "      <td>[]</td>\n",
       "      <td>2010-05-25</td>\n",
       "      <td>0</td>\n",
       "      <td>110.0</td>\n",
       "      <td>[{'iso_639_1': 'pl', 'name': 'Polski'}]</td>\n",
       "      <td>Released</td>\n",
       "      <td>Venice</td>\n",
       "      <td>False</td>\n",
       "      <td>7.5</td>\n",
       "      <td>4</td>\n",
       "      <td>[{'cast_id': 1005, 'character': 'Marek', 'cred...</td>\n",
       "      <td>[{'credit_id': '52fe49e5c3a368484e145fb7', 'de...</td>\n",
       "      <td></td>\n",
       "      <td>An atmospheric coming-of-age story featuring a...</td>\n",
       "    </tr>\n",
       "    <tr>\n",
       "      <th>2</th>\n",
       "      <td>False</td>\n",
       "      <td>0</td>\n",
       "      <td>Comedy    Horror</td>\n",
       "      <td>141210</td>\n",
       "      <td>tt2250194</td>\n",
       "      <td>en</td>\n",
       "      <td>The Sleepover</td>\n",
       "      <td>The town of Derry has a secret, but no one tol...</td>\n",
       "      <td>0.135596</td>\n",
       "      <td>/pQpyEmFTGaox4yLuUXmiD2IDIbA.jpg</td>\n",
       "      <td>[]</td>\n",
       "      <td>[]</td>\n",
       "      <td>2013-10-12</td>\n",
       "      <td>0</td>\n",
       "      <td>6.0</td>\n",
       "      <td>[]</td>\n",
       "      <td>Released</td>\n",
       "      <td>The Sleepover</td>\n",
       "      <td>False</td>\n",
       "      <td>8.0</td>\n",
       "      <td>1</td>\n",
       "      <td>[{'cast_id': 2, 'character': 'Rachel', 'credit...</td>\n",
       "      <td>[{'credit_id': '52fe4aaf9251416c750ea6f1', 'de...</td>\n",
       "      <td></td>\n",
       "      <td>The town of Derry has a secret, but no one tol...</td>\n",
       "    </tr>\n",
       "  </tbody>\n",
       "</table>\n",
       "</div>"
      ],
      "text/plain": [
       "   adult  budget               genres      id    imdb_id original_language   \n",
       "0  False       0     Drama    Foreign  131232  tt0333373                en  \\\n",
       "1  False       0     Drama    Romance   79782  tt1684935                en   \n",
       "2  False       0     Comedy    Horror  141210  tt2250194                en   \n",
       "\n",
       "  original_title                                           overview   \n",
       "0      Due Amici  Two Sicilian friends, Nunzio and Pino, share t...  \\\n",
       "1        Wenecja  An atmospheric coming-of-age story featuring a...   \n",
       "2  The Sleepover  The town of Derry has a secret, but no one tol...   \n",
       "\n",
       "   popularity                       poster_path production_companies   \n",
       "0    0.003949  /jo4n8M8EHedIuatB39C8EEmJBH8.jpg                   []  \\\n",
       "1    0.147130  /lUmJiBTKdesFDkgSvV9zecCgNO6.jpg                   []   \n",
       "2    0.135596  /pQpyEmFTGaox4yLuUXmiD2IDIbA.jpg                   []   \n",
       "\n",
       "                      production_countries release_date  revenue  runtime   \n",
       "0  [{'iso_3166_1': 'IT', 'name': 'Italy'}]   2002-03-20        0     86.0  \\\n",
       "1                                       []   2010-05-25        0    110.0   \n",
       "2                                       []   2013-10-12        0      6.0   \n",
       "\n",
       "                            spoken_languages    status          title  video   \n",
       "0  [{'iso_639_1': 'it', 'name': 'Italiano'}]  Released    Two Friends  False  \\\n",
       "1    [{'iso_639_1': 'pl', 'name': 'Polski'}]  Released         Venice  False   \n",
       "2                                         []  Released  The Sleepover  False   \n",
       "\n",
       "   vote_average  vote_count   \n",
       "0           0.0           0  \\\n",
       "1           7.5           4   \n",
       "2           8.0           1   \n",
       "\n",
       "                                                cast   \n",
       "0  [{'cast_id': 5, 'character': 'Nunzio', 'credit...  \\\n",
       "1  [{'cast_id': 1005, 'character': 'Marek', 'cred...   \n",
       "2  [{'cast_id': 2, 'character': 'Rachel', 'credit...   \n",
       "\n",
       "                                                crew keywords   \n",
       "0  [{'credit_id': '52fe4b72c3a368484e1896cd', 'de...           \\\n",
       "1  [{'credit_id': '52fe49e5c3a368484e145fb7', 'de...            \n",
       "2  [{'credit_id': '52fe4aaf9251416c750ea6f1', 'de...            \n",
       "\n",
       "                                             summary  \n",
       "0  Two Sicilian friends, Nunzio and Pino, share t...  \n",
       "1  An atmospheric coming-of-age story featuring a...  \n",
       "2  The town of Derry has a secret, but no one tol...  "
      ]
     },
     "execution_count": 38,
     "metadata": {},
     "output_type": "execute_result"
    }
   ],
   "source": [
    "merged_df[\"summary\"] = merged_df[\"overview\"].astype(str) + merged_df[\"genres\"].astype(str) + merged_df[\"keywords\"].astype(str)\n",
    "merged_df.head(3)"
   ]
  },
  {
   "cell_type": "code",
   "execution_count": 39,
   "metadata": {
    "colab": {
     "base_uri": "https://localhost:8080/"
    },
    "id": "-DN3yKX88XWk",
    "outputId": "71fffe52-d73a-4295-9b46-da0c73edf0a8"
   },
   "outputs": [
    {
     "name": "stdout",
     "output_type": "stream",
     "text": [
      "['two', 'sicilian', 'friends', ',', 'nunzio', 'and', 'pino', ',', 'share', 'the', 'same', 'apartment', 'in', 'turin', '.', 'nunzio', 'works', 'in', 'a', 'factory', 'but', 'is', 'laid', 'off', 'because', 'of', 'his', 'illness', '.', 'pino', ',', 'on', 'the', 'other', 'hand', ',', 'is', 'a', 'mysterious', 'man', 'and', 'he', 'is', 'always', 'traveling', 'because', 'of', 'his', 'work', '.', 'nunzio', 'would', 'very', 'much', 'like', 'to', 'know', 'what', 'his', 'friend', 'is', 'doing', 'for', 'a', 'living', 'but', 'pino', 'will', 'not', 'tell', 'him', '.', 'nunzio', 'spends', 'his', 'free', 'time', 'the', 'best', 'he', 'can', 'in', 'his', 'friend', \"'s\", 'absences', '.', 'he', 'ends', 'up', 'falling', 'in', 'love', 'with', 'maria', ',', 'a', 'commercial', 'employee', ',', 'whereas', 'his', 'health', 'condition', 'deteriorates', '...', 'drama', 'foreign']\n"
     ]
    }
   ],
   "source": [
    "# lower case and tokenize\n",
    "merged_df['tokens'] = merged_df['summary'].apply(str.lower).apply(word_tokenize)\n",
    "print(merged_df['tokens'][0])"
   ]
  },
  {
   "cell_type": "code",
   "execution_count": 40,
   "metadata": {
    "colab": {
     "base_uri": "https://localhost:8080/"
    },
    "id": "nWaOOROTEzWU",
    "outputId": "cde6456f-cc39-4e1b-90b1-ab6429422fb1"
   },
   "outputs": [
    {
     "name": "stdout",
     "output_type": "stream",
     "text": [
      "['two', 'sicilian', 'friends', 'nunzio', 'pino', 'share', 'apartment', 'turin', 'nunzio', 'works', 'factory', 'laid', 'illness', 'pino', 'hand', 'mysterious', 'man', 'always', 'traveling', 'work', 'nunzio', 'would', 'much', 'like', 'know', 'friend', 'living', 'pino', 'tell', 'nunzio', 'spends', 'free', 'time', 'best', 'friend', 'absences', 'ends', 'falling', 'love', 'maria', 'commercial', 'employee', 'whereas', 'health', 'condition', 'deteriorates', 'drama', 'foreign']\n"
     ]
    }
   ],
   "source": [
    "# remove stop words and words that's not alphabetical\n",
    "stop_words = stopwords.words('english')\n",
    "merged_df['tokens'] = merged_df['tokens'].apply(lambda x: [word for word in x if word not in stop_words and word.isalpha()])\n",
    "\n",
    "print(merged_df['tokens'][0])"
   ]
  },
  {
   "cell_type": "code",
   "execution_count": 41,
   "metadata": {
    "colab": {
     "base_uri": "https://localhost:8080/"
    },
    "id": "lhtDj3mlsTDS",
    "outputId": "4136b7ef-f83b-4969-967b-22d26799ed1c"
   },
   "outputs": [
    {
     "name": "stdout",
     "output_type": "stream",
     "text": [
      "['two', 'sicilian', 'friend', 'nunzio', 'pino', 'share', 'apart', 'turin', 'nunzio', 'work', 'factori', 'laid', 'ill', 'pino', 'hand', 'mysteri', 'man', 'alway', 'travel', 'work', 'nunzio', 'would', 'much', 'like', 'know', 'friend', 'live', 'pino', 'tell', 'nunzio', 'spend', 'free', 'time', 'best', 'friend', 'absenc', 'end', 'fall', 'love', 'maria', 'commerci', 'employe', 'wherea', 'health', 'condit', 'deterior', 'drama', 'foreign']\n"
     ]
    }
   ],
   "source": [
    "# stem words\n",
    "stemmer = SnowballStemmer('english')\n",
    "merged_df['stemmed_tokens'] = merged_df['tokens'].apply(lambda x: [stemmer.stem(word) for word in x])\n",
    "print(merged_df['stemmed_tokens'][0])"
   ]
  },
  {
   "cell_type": "code",
   "execution_count": 42,
   "metadata": {
    "colab": {
     "base_uri": "https://localhost:8080/"
    },
    "id": "0o22mjfFsTFr",
    "outputId": "dd4cdc08-f235-442f-aad3-caf2be746144"
   },
   "outputs": [
    {
     "name": "stdout",
     "output_type": "stream",
     "text": [
      "two sicilian friend nunzio pino share apart turin nunzio work factori laid ill pino hand mysteri man alway travel work nunzio would much like know friend live pino tell nunzio spend free time best friend absenc end fall love maria commerci employe wherea health condit deterior drama foreign\n"
     ]
    }
   ],
   "source": [
    "# combine tokens into a single string\n",
    "merged_df['cleaned_summary'] = merged_df['stemmed_tokens'].apply(lambda x: ' '.join(x))\n",
    "print(merged_df['cleaned_summary'][0])"
   ]
  },
  {
   "cell_type": "code",
   "execution_count": 43,
   "metadata": {
    "colab": {
     "base_uri": "https://localhost:8080/"
    },
    "id": "DTDG72QmNVMX",
    "outputId": "e4d46e7d-ab95-4cc1-b3b3-37c1c58f3f66"
   },
   "outputs": [
    {
     "data": {
      "text/plain": [
       "Index(['adult', 'budget', 'genres', 'id', 'imdb_id', 'original_language',\n",
       "       'original_title', 'overview', 'popularity', 'poster_path',\n",
       "       'production_companies', 'production_countries', 'release_date',\n",
       "       'revenue', 'runtime', 'spoken_languages', 'status', 'title', 'video',\n",
       "       'vote_average', 'vote_count', 'cast', 'crew', 'keywords', 'summary',\n",
       "       'tokens', 'stemmed_tokens', 'cleaned_summary'],\n",
       "      dtype='object')"
      ]
     },
     "execution_count": 43,
     "metadata": {},
     "output_type": "execute_result"
    }
   ],
   "source": [
    "merged_df.columns"
   ]
  },
  {
   "cell_type": "code",
   "execution_count": 44,
   "metadata": {
    "id": "PZINFA-VyB9t"
   },
   "outputs": [],
   "source": [
    "# subset columns and export merged dataframe to CSV\n",
    "merged_df = merged_df[merged_df.columns.difference(['summary', 'tokens', 'stemmed_tokens'])]\n",
    "merged_df.to_csv('data/cleaned_df.csv', index=False)"
   ]
  },
  {
   "cell_type": "markdown",
   "metadata": {
    "id": "r153hToTxFqp"
   },
   "source": [
    "# TF-IDF Vectorizer"
   ]
  },
  {
   "cell_type": "code",
   "execution_count": 45,
   "metadata": {
    "colab": {
     "base_uri": "https://localhost:8080/",
     "height": 600
    },
    "id": "_ZGr1D9FyVEh",
    "outputId": "f3214443-d888-4c9c-900d-d96240e6d848"
   },
   "outputs": [
    {
     "data": {
      "text/html": [
       "<div>\n",
       "<style scoped>\n",
       "    .dataframe tbody tr th:only-of-type {\n",
       "        vertical-align: middle;\n",
       "    }\n",
       "\n",
       "    .dataframe tbody tr th {\n",
       "        vertical-align: top;\n",
       "    }\n",
       "\n",
       "    .dataframe thead th {\n",
       "        text-align: right;\n",
       "    }\n",
       "</style>\n",
       "<table border=\"1\" class=\"dataframe\">\n",
       "  <thead>\n",
       "    <tr style=\"text-align: right;\">\n",
       "      <th></th>\n",
       "      <th>adult</th>\n",
       "      <th>budget</th>\n",
       "      <th>cast</th>\n",
       "      <th>cleaned_summary</th>\n",
       "      <th>crew</th>\n",
       "      <th>genres</th>\n",
       "      <th>id</th>\n",
       "      <th>imdb_id</th>\n",
       "      <th>keywords</th>\n",
       "      <th>original_language</th>\n",
       "      <th>original_title</th>\n",
       "      <th>overview</th>\n",
       "      <th>popularity</th>\n",
       "      <th>poster_path</th>\n",
       "      <th>production_companies</th>\n",
       "      <th>production_countries</th>\n",
       "      <th>release_date</th>\n",
       "      <th>revenue</th>\n",
       "      <th>runtime</th>\n",
       "      <th>spoken_languages</th>\n",
       "      <th>status</th>\n",
       "      <th>title</th>\n",
       "      <th>video</th>\n",
       "      <th>vote_average</th>\n",
       "      <th>vote_count</th>\n",
       "    </tr>\n",
       "  </thead>\n",
       "  <tbody>\n",
       "    <tr>\n",
       "      <th>0</th>\n",
       "      <td>False</td>\n",
       "      <td>0</td>\n",
       "      <td>[{'cast_id': 5, 'character': 'Nunzio', 'credit...</td>\n",
       "      <td>two sicilian friend nunzio pino share apart tu...</td>\n",
       "      <td>[{'credit_id': '52fe4b72c3a368484e1896cd', 'de...</td>\n",
       "      <td>Drama    Foreign</td>\n",
       "      <td>131232</td>\n",
       "      <td>tt0333373</td>\n",
       "      <td>NaN</td>\n",
       "      <td>en</td>\n",
       "      <td>Due Amici</td>\n",
       "      <td>Two Sicilian friends, Nunzio and Pino, share t...</td>\n",
       "      <td>0.003949</td>\n",
       "      <td>/jo4n8M8EHedIuatB39C8EEmJBH8.jpg</td>\n",
       "      <td>[]</td>\n",
       "      <td>[{'iso_3166_1': 'IT', 'name': 'Italy'}]</td>\n",
       "      <td>2002-03-20</td>\n",
       "      <td>0</td>\n",
       "      <td>86.0</td>\n",
       "      <td>[{'iso_639_1': 'it', 'name': 'Italiano'}]</td>\n",
       "      <td>Released</td>\n",
       "      <td>Two Friends</td>\n",
       "      <td>False</td>\n",
       "      <td>0.0</td>\n",
       "      <td>0</td>\n",
       "    </tr>\n",
       "    <tr>\n",
       "      <th>1</th>\n",
       "      <td>False</td>\n",
       "      <td>0</td>\n",
       "      <td>[{'cast_id': 1005, 'character': 'Marek', 'cred...</td>\n",
       "      <td>atmospher stori featur imagin young boy name m...</td>\n",
       "      <td>[{'credit_id': '52fe49e5c3a368484e145fb7', 'de...</td>\n",
       "      <td>Drama    Romance</td>\n",
       "      <td>79782</td>\n",
       "      <td>tt1684935</td>\n",
       "      <td>NaN</td>\n",
       "      <td>en</td>\n",
       "      <td>Wenecja</td>\n",
       "      <td>An atmospheric coming-of-age story featuring a...</td>\n",
       "      <td>0.147130</td>\n",
       "      <td>/lUmJiBTKdesFDkgSvV9zecCgNO6.jpg</td>\n",
       "      <td>[]</td>\n",
       "      <td>[]</td>\n",
       "      <td>2010-05-25</td>\n",
       "      <td>0</td>\n",
       "      <td>110.0</td>\n",
       "      <td>[{'iso_639_1': 'pl', 'name': 'Polski'}]</td>\n",
       "      <td>Released</td>\n",
       "      <td>Venice</td>\n",
       "      <td>False</td>\n",
       "      <td>7.5</td>\n",
       "      <td>4</td>\n",
       "    </tr>\n",
       "    <tr>\n",
       "      <th>2</th>\n",
       "      <td>False</td>\n",
       "      <td>0</td>\n",
       "      <td>[{'cast_id': 2, 'character': 'Rachel', 'credit...</td>\n",
       "      <td>town derri secret one told new kid gon na long...</td>\n",
       "      <td>[{'credit_id': '52fe4aaf9251416c750ea6f1', 'de...</td>\n",
       "      <td>Comedy    Horror</td>\n",
       "      <td>141210</td>\n",
       "      <td>tt2250194</td>\n",
       "      <td>NaN</td>\n",
       "      <td>en</td>\n",
       "      <td>The Sleepover</td>\n",
       "      <td>The town of Derry has a secret, but no one tol...</td>\n",
       "      <td>0.135596</td>\n",
       "      <td>/pQpyEmFTGaox4yLuUXmiD2IDIbA.jpg</td>\n",
       "      <td>[]</td>\n",
       "      <td>[]</td>\n",
       "      <td>2013-10-12</td>\n",
       "      <td>0</td>\n",
       "      <td>6.0</td>\n",
       "      <td>[]</td>\n",
       "      <td>Released</td>\n",
       "      <td>The Sleepover</td>\n",
       "      <td>False</td>\n",
       "      <td>8.0</td>\n",
       "      <td>1</td>\n",
       "    </tr>\n",
       "  </tbody>\n",
       "</table>\n",
       "</div>"
      ],
      "text/plain": [
       "   adult  budget                                               cast   \n",
       "0  False       0  [{'cast_id': 5, 'character': 'Nunzio', 'credit...  \\\n",
       "1  False       0  [{'cast_id': 1005, 'character': 'Marek', 'cred...   \n",
       "2  False       0  [{'cast_id': 2, 'character': 'Rachel', 'credit...   \n",
       "\n",
       "                                     cleaned_summary   \n",
       "0  two sicilian friend nunzio pino share apart tu...  \\\n",
       "1  atmospher stori featur imagin young boy name m...   \n",
       "2  town derri secret one told new kid gon na long...   \n",
       "\n",
       "                                                crew               genres   \n",
       "0  [{'credit_id': '52fe4b72c3a368484e1896cd', 'de...     Drama    Foreign  \\\n",
       "1  [{'credit_id': '52fe49e5c3a368484e145fb7', 'de...     Drama    Romance   \n",
       "2  [{'credit_id': '52fe4aaf9251416c750ea6f1', 'de...     Comedy    Horror   \n",
       "\n",
       "       id    imdb_id keywords original_language original_title   \n",
       "0  131232  tt0333373      NaN                en      Due Amici  \\\n",
       "1   79782  tt1684935      NaN                en        Wenecja   \n",
       "2  141210  tt2250194      NaN                en  The Sleepover   \n",
       "\n",
       "                                            overview  popularity   \n",
       "0  Two Sicilian friends, Nunzio and Pino, share t...    0.003949  \\\n",
       "1  An atmospheric coming-of-age story featuring a...    0.147130   \n",
       "2  The town of Derry has a secret, but no one tol...    0.135596   \n",
       "\n",
       "                        poster_path production_companies   \n",
       "0  /jo4n8M8EHedIuatB39C8EEmJBH8.jpg                   []  \\\n",
       "1  /lUmJiBTKdesFDkgSvV9zecCgNO6.jpg                   []   \n",
       "2  /pQpyEmFTGaox4yLuUXmiD2IDIbA.jpg                   []   \n",
       "\n",
       "                      production_countries release_date  revenue  runtime   \n",
       "0  [{'iso_3166_1': 'IT', 'name': 'Italy'}]   2002-03-20        0     86.0  \\\n",
       "1                                       []   2010-05-25        0    110.0   \n",
       "2                                       []   2013-10-12        0      6.0   \n",
       "\n",
       "                            spoken_languages    status          title  video   \n",
       "0  [{'iso_639_1': 'it', 'name': 'Italiano'}]  Released    Two Friends  False  \\\n",
       "1    [{'iso_639_1': 'pl', 'name': 'Polski'}]  Released         Venice  False   \n",
       "2                                         []  Released  The Sleepover  False   \n",
       "\n",
       "   vote_average  vote_count  \n",
       "0           0.0           0  \n",
       "1           7.5           4  \n",
       "2           8.0           1  "
      ]
     },
     "execution_count": 45,
     "metadata": {},
     "output_type": "execute_result"
    }
   ],
   "source": [
    "cleaned_df = pd.read_csv('data/cleaned_df.csv')\n",
    "cleaned_df.head(3)"
   ]
  },
  {
   "cell_type": "code",
   "execution_count": 46,
   "metadata": {},
   "outputs": [
    {
     "data": {
      "text/plain": [
       "count    23988.000000\n",
       "mean        37.297274\n",
       "std         21.226040\n",
       "min          1.000000\n",
       "25%         21.000000\n",
       "50%         34.000000\n",
       "75%         49.000000\n",
       "max        280.000000\n",
       "Name: num_words, dtype: float64"
      ]
     },
     "execution_count": 46,
     "metadata": {},
     "output_type": "execute_result"
    }
   ],
   "source": [
    "# descriptive summary of the number of words in the cleaned_summary column\n",
    "cleaned_df['num_words'] = cleaned_df['cleaned_summary'].apply(lambda x:len(str(x).split()))\n",
    "cleaned_df['num_words'].describe()"
   ]
  },
  {
   "cell_type": "code",
   "execution_count": 47,
   "metadata": {},
   "outputs": [],
   "source": [
    "# filter out rows where cleaned_summary has less than 21 words (25 percentile)\n",
    "cleaned_df = cleaned_df[cleaned_df['num_words'] >= 21]"
   ]
  },
  {
   "cell_type": "code",
   "execution_count": 48,
   "metadata": {},
   "outputs": [
    {
     "data": {
      "text/plain": [
       "Index([    0,     3,     4,     5,     7,     8,     9,    10,    11,    12,\n",
       "       ...\n",
       "       23973, 23974, 23975, 23977, 23978, 23979, 23980, 23981, 23984, 23987],\n",
       "      dtype='int64', length=18327)"
      ]
     },
     "execution_count": 48,
     "metadata": {},
     "output_type": "execute_result"
    }
   ],
   "source": [
    "cleaned_df.index"
   ]
  },
  {
   "cell_type": "code",
   "execution_count": 49,
   "metadata": {},
   "outputs": [
    {
     "data": {
      "text/plain": [
       "RangeIndex(start=0, stop=18327, step=1)"
      ]
     },
     "execution_count": 49,
     "metadata": {},
     "output_type": "execute_result"
    }
   ],
   "source": [
    "# fix index so that it goes from 1 to 13966\n",
    "cleaned_df.index = pd.RangeIndex(start=0, stop=0+len(cleaned_df), step=1)\n",
    "cleaned_df.index"
   ]
  },
  {
   "cell_type": "code",
   "execution_count": 50,
   "metadata": {
    "colab": {
     "base_uri": "https://localhost:8080/"
    },
    "id": "jCScI_E-sTIP",
    "outputId": "8f61af51-6a39-4830-d75d-a819b62e8020"
   },
   "outputs": [
    {
     "data": {
      "text/plain": [
       "(18327, 39539)"
      ]
     },
     "execution_count": 50,
     "metadata": {},
     "output_type": "execute_result"
    }
   ],
   "source": [
    "tfidf_vectorizer = TfidfVectorizer(max_df=0.5, use_idf=True)\n",
    "\n",
    "tfidf_matrix = tfidf_vectorizer.fit_transform(cleaned_df['cleaned_summary'].astype('str'))\n",
    "tfidf_array = tfidf_matrix.toarray()\n",
    "\n",
    "tfidf_array.shape"
   ]
  },
  {
   "cell_type": "markdown",
   "metadata": {
    "id": "GQsUGyt30wdz"
   },
   "source": [
    "# Cosine Similarity Index"
   ]
  },
  {
   "cell_type": "code",
   "execution_count": 19,
   "metadata": {
    "id": "x7k_G2NAsTMx"
   },
   "outputs": [],
   "source": [
    "cos_sim = cosine_similarity(tfidf_array, tfidf_array)"
   ]
  },
  {
   "cell_type": "markdown",
   "metadata": {
    "id": "4YpWnFXw1uDR"
   },
   "source": [
    "# Recommendation Algorithm"
   ]
  },
  {
   "cell_type": "markdown",
   "metadata": {
    "id": "11V2RqYeWAXW"
   },
   "source": [
    "## First, let's test the system to return *top 10 similar movie titles based on their cosine similarities.* (Content-based filtering)"
   ]
  },
  {
   "cell_type": "code",
   "execution_count": 25,
   "metadata": {},
   "outputs": [
    {
     "name": "stdout",
     "output_type": "stream",
     "text": [
      "title\n",
      "Two Friends                                 0\n",
      "The Farmer's Wife                           1\n",
      "The Yards                                   2\n",
      "Next Friday                                 3\n",
      "The Life and Times of Hank Greenberg        4\n",
      "                                        ...  \n",
      "The Final Storm                         13961\n",
      "Blood, Sweat and Tears                  13962\n",
      "To Be Fat Like Me                       13963\n",
      "Pooh's Heffalump Halloween Movie        13964\n",
      "Mom                                     13965\n",
      "Length: 13966, dtype: int64\n",
      "(13966,)\n"
     ]
    }
   ],
   "source": [
    "indices = pd.Series(cleaned_df.index, index=cleaned_df['title']).drop_duplicates()\n",
    "print(indices)\n",
    "print(indices.shape)"
   ]
  },
  {
   "cell_type": "code",
   "execution_count": null,
   "metadata": {},
   "outputs": [],
   "source": []
  },
  {
   "cell_type": "code",
   "execution_count": 39,
   "metadata": {},
   "outputs": [
    {
     "data": {
      "text/plain": [
       "title\n",
       "Two Friends        0\n",
       "Two Friends    11152\n",
       "dtype: int64"
      ]
     },
     "execution_count": 39,
     "metadata": {},
     "output_type": "execute_result"
    }
   ],
   "source": [
    "idx = indices['Two Friends']\n",
    "idx"
   ]
  },
  {
   "cell_type": "code",
   "execution_count": 26,
   "metadata": {
    "id": "gDSQuVh31uXW"
   },
   "outputs": [],
   "source": [
    "def get_recommendations(title, cosine_sim, indices):\n",
    "    # Get index of movie that corresponds to a title.\n",
    "    idx = indices[title]\n",
    "    \n",
    "    # Sort the movies based on the similarity scores\n",
    "    sim_scores = list(enumerate(cosine_sim[idx]))\n",
    "    \n",
    "    #sort the scores from highest to lowest (descending).\n",
    "    sim_scores = sorted(sim_scores, key=lambda x: x[1], reverse=True)\n",
    "    \n",
    "    # Get the scores for 10 most similar movies EXCEPT FOR the 1st highest one (itself).\n",
    "    sim_scores = sim_scores[1:11]\n",
    "    \n",
    "    # Get the movie indices\n",
    "    movie_indices = [i[0] for i in sim_scores]\n",
    "    \n",
    "    # Return the top 10 most similar movies\n",
    "    result=cleaned_df['title'].iloc[movie_indices]\n",
    "\n",
    "    return result"
   ]
  },
  {
   "cell_type": "code",
   "execution_count": 37,
   "metadata": {
    "id": "uGF-fj6p1y59"
   },
   "outputs": [
    {
     "ename": "ValueError",
     "evalue": "The truth value of an array with more than one element is ambiguous. Use a.any() or a.all()",
     "output_type": "error",
     "traceback": [
      "\u001b[0;31m---------------------------------------------------------------------------\u001b[0m",
      "\u001b[0;31mValueError\u001b[0m                                Traceback (most recent call last)",
      "Cell \u001b[0;32mIn[37], line 1\u001b[0m\n\u001b[0;32m----> 1\u001b[0m \u001b[38;5;28mprint\u001b[39m(\u001b[43mget_recommendations\u001b[49m\u001b[43m(\u001b[49m\u001b[38;5;124;43m'\u001b[39;49m\u001b[38;5;124;43mTwo Friends\u001b[39;49m\u001b[38;5;124;43m'\u001b[39;49m\u001b[43m,\u001b[49m\u001b[43m \u001b[49m\u001b[43mcos_sim\u001b[49m\u001b[43m,\u001b[49m\u001b[43m \u001b[49m\u001b[43mindices\u001b[49m\u001b[43m)\u001b[49m)\n",
      "Cell \u001b[0;32mIn[26], line 9\u001b[0m, in \u001b[0;36mget_recommendations\u001b[0;34m(title, cosine_sim, indices)\u001b[0m\n\u001b[1;32m      6\u001b[0m sim_scores \u001b[38;5;241m=\u001b[39m \u001b[38;5;28mlist\u001b[39m(\u001b[38;5;28menumerate\u001b[39m(cosine_sim[idx]))\n\u001b[1;32m      8\u001b[0m \u001b[38;5;66;03m#sort the scores from highest to lowest (descending).\u001b[39;00m\n\u001b[0;32m----> 9\u001b[0m sim_scores \u001b[38;5;241m=\u001b[39m \u001b[38;5;28;43msorted\u001b[39;49m\u001b[43m(\u001b[49m\u001b[43msim_scores\u001b[49m\u001b[43m,\u001b[49m\u001b[43m \u001b[49m\u001b[43mkey\u001b[49m\u001b[38;5;241;43m=\u001b[39;49m\u001b[38;5;28;43;01mlambda\u001b[39;49;00m\u001b[43m \u001b[49m\u001b[43mx\u001b[49m\u001b[43m:\u001b[49m\u001b[43m \u001b[49m\u001b[43mx\u001b[49m\u001b[43m[\u001b[49m\u001b[38;5;241;43m1\u001b[39;49m\u001b[43m]\u001b[49m\u001b[43m,\u001b[49m\u001b[43m \u001b[49m\u001b[43mreverse\u001b[49m\u001b[38;5;241;43m=\u001b[39;49m\u001b[38;5;28;43;01mTrue\u001b[39;49;00m\u001b[43m)\u001b[49m\n\u001b[1;32m     11\u001b[0m \u001b[38;5;66;03m# Get the scores for 10 most similar movies EXCEPT FOR the 1st highest one (itself).\u001b[39;00m\n\u001b[1;32m     12\u001b[0m sim_scores \u001b[38;5;241m=\u001b[39m sim_scores[\u001b[38;5;241m1\u001b[39m:\u001b[38;5;241m11\u001b[39m]\n",
      "\u001b[0;31mValueError\u001b[0m: The truth value of an array with more than one element is ambiguous. Use a.any() or a.all()"
     ]
    }
   ],
   "source": [
    "print(get_recommendations('Two Friends', cos_sim, indices))"
   ]
  },
  {
   "cell_type": "markdown",
   "metadata": {
    "id": "hdW3ExhdWdzu"
   },
   "source": [
    "### Next, *Popularity Based Filtering*"
   ]
  },
  {
   "cell_type": "markdown",
   "metadata": {
    "id": "hj0RQH1BXG3M"
   },
   "source": [
    "### For this, we can use the following to determine movie popularity based on user vote count.\n",
    "\n",
    "**IMDB weighted avg formula:**\n",
    "\n",
    "Weighted Rating(WR)=[vR/(v+m)]+[mC/(v+m)]\n",
    "where,\n",
    "\n",
    "*   v is the number of votes for the movie;\n",
    "*   m is the minimum votes required to be listed in the chart;\n",
    "*   R is the average rating of the movie; and\n",
    "*   C is the mean vote across the whole report.\n",
    "\n",
    "Now we find the values of v,m,R,C.\n",
    "\n",
    "For reference to formula: https://www.reddit.com/r/statistics/comments/1niai5/imbd_weighted_average/"
   ]
  },
  {
   "cell_type": "code",
   "execution_count": null,
   "metadata": {
    "id": "SqQOZ_wLYehA"
   },
   "outputs": [],
   "source": [
    "C= movies['vote_average'].mean()\n",
    "m= movies['vote_count'].quantile(0.9)   #90 percent is our cutoff\n",
    "q_movies = movies.loc[movies['vote_count'] >= m]\n",
    "q_movies.shape  #first number will give us the amount of qualifying movies"
   ]
  },
  {
   "cell_type": "code",
   "execution_count": null,
   "metadata": {
    "id": "dyhcdL99ZdWA"
   },
   "outputs": [],
   "source": [
    "#Define a function to run this for all of the movies and build a DataFrame\n",
    "\n",
    "def weighted_rating(x, m=m, C=C):\n",
    "    v = x['vote_count']\n",
    "    R = x['vote_average']\n",
    "    return (v/(v+m) * R) + (m/(m+v) * C)\n",
    "    \n",
    " \n",
    " q_movies['score'] = q_movies.apply(weighted_rating, axis=1)\n",
    " \n",
    " \n",
    "#Sorting movies based on score calculated above\n",
    "q_movies = q_movies.sort_values('score', ascending=False)\n",
    "\n",
    "#Printing the top 15 movies\n",
    "q_movies[['original_title', 'vote_count', 'vote_average', 'score']].reset_index(drop=True).head(10)\n"
   ]
  },
  {
   "cell_type": "code",
   "execution_count": null,
   "metadata": {
    "id": "fe5FXpCGaWbt"
   },
   "outputs": [],
   "source": [
    "#Visualize top 10 movies according to popularity based recommender system.\n",
    "\n",
    "pop= movies.sort_values('popularity', ascending=False)\n",
    "import matplotlib.pyplot as plt\n",
    "plt.figure(figsize=(12,4))\n",
    "\n",
    "plt.barh(pop['original_title'].head(6),pop['popularity'].head(6), align='center',\n",
    "        color='skyblue')\n",
    "plt.gca().invert_yaxis()\n",
    "plt.xlabel(\"Popularity\")\n",
    "plt.title(\"Popular Movies\")"
   ]
  },
  {
   "cell_type": "markdown",
   "metadata": {
    "id": "oVl7dS-Sa99F"
   },
   "source": [
    "Next, *Content Based Filtering*"
   ]
  },
  {
   "cell_type": "code",
   "execution_count": null,
   "metadata": {
    "id": "i_-BEUqebPOX"
   },
   "outputs": [],
   "source": []
  }
 ],
 "metadata": {
  "colab": {
   "provenance": []
  },
  "kernelspec": {
   "display_name": "Python [conda env:movie-search-engine]",
   "language": "python",
   "name": "conda-env-movie-search-engine-py"
  },
  "language_info": {
   "codemirror_mode": {
    "name": "ipython",
    "version": 3
   },
   "file_extension": ".py",
   "mimetype": "text/x-python",
   "name": "python",
   "nbconvert_exporter": "python",
   "pygments_lexer": "ipython3",
   "version": "3.11.3"
  }
 },
 "nbformat": 4,
 "nbformat_minor": 4
}
